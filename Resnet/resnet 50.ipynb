{
 "cells": [
  {
   "cell_type": "code",
   "execution_count": 1,
   "id": "6fc4e7ec-3233-4b8a-8c68-618c36e753b5",
   "metadata": {
    "tags": []
   },
   "outputs": [],
   "source": [
    "import os\n",
    "import numpy as np\n",
    "import matplotlib.pyplot as plt\n",
    "from sklearn.metrics import accuracy_score, roc_auc_score, f1_score, recall_score, roc_curve, auc\n",
    "\n",
    "import torch\n",
    "import torch.nn as nn\n",
    "import torch.optim as optim\n",
    "from torch.utils.data import DataLoader, random_split, ConcatDataset, Subset, SubsetRandomSampler\n",
    "from torchvision import transforms, datasets\n",
    "import torchvision.models as models\n",
    "from torchvision import models\n",
    "import timm\n",
    "import csv\n",
    "import seaborn as sns\n",
    "from sklearn.metrics import confusion_matrix\n",
    "import copy\n",
    "import random\n",
    "from torch.optim.lr_scheduler import StepLR, MultiStepLR, LambdaLR, ExponentialLR, CosineAnnealingLR, ReduceLROnPlateau\n",
    "from torchsummary import summary"
   ]
  },
  {
   "cell_type": "code",
   "execution_count": 26,
   "id": "2fdcda54-5505-422e-a835-442c23d01d6b",
   "metadata": {
    "tags": []
   },
   "outputs": [],
   "source": [
    "# 设置随机数种子，保证结果的可重复性\n",
    "random.seed(2024)\n",
    "np.random.seed(2024)\n",
    "torch.manual_seed(2024)\n",
    "torch.cuda.manual_seed(2024)"
   ]
  },
  {
   "cell_type": "code",
   "execution_count": 27,
   "id": "d1f10b2c-123f-4382-8140-1bcdc03a5242",
   "metadata": {
    "tags": []
   },
   "outputs": [
    {
     "name": "stderr",
     "output_type": "stream",
     "text": [
      "/root/miniconda3/lib/python3.8/site-packages/torchvision/models/_utils.py:208: UserWarning: The parameter 'pretrained' is deprecated since 0.13 and may be removed in the future, please use 'weights' instead.\n",
      "  warnings.warn(\n",
      "/root/miniconda3/lib/python3.8/site-packages/torchvision/models/_utils.py:223: UserWarning: Arguments other than a weight enum or `None` for 'weights' are deprecated since 0.13 and may be removed in the future. The current behavior is equivalent to passing `weights=None`.\n",
      "  warnings.warn(msg)\n"
     ]
    }
   ],
   "source": [
    "# Set device\n",
    "device = torch.device(\"cuda\" if torch.cuda.is_available() else \"cpu\")\n",
    "\n",
    "\n",
    "# Load pretrained Swin Transformer model\n",
    "# model = models.resnet50(pretrained=False)\n",
    "\n",
    "# 无预训练\n",
    "model = models.resnet50()\n",
    "\n",
    "# print(model)\n",
    "# for name, module in model.named_modules():\n",
    "#     # if name == 'norm' or name == 'head':\n",
    "#     print(name)\n",
    "# model\n",
    "# summary(model, (3, 224, 224))"
   ]
  },
  {
   "cell_type": "code",
   "execution_count": 28,
   "id": "e8886452-99e0-4ed7-9c2c-965bd7d404fe",
   "metadata": {
    "tags": []
   },
   "outputs": [],
   "source": [
    "# 假设你的权重文件路径是'path_to_your_weights.pth'\n",
    "#weights_path = 'root/autodl-tmp/project/MedSAM-0.1/Resnet/01.pth'\n",
    "\n",
    "# 加载权重\n",
    "#model.load_state_dict(torch.load(weights_path))\n",
    "num_ftrs = model.fc.in_features \n",
    "for param in model.parameters():\n",
    "    param.requires_grad = False #False：冻结模型的参数，也就是采用该模型已经训练好的原始参数。只需要训练我们自己定义的Linear层\n",
    " \n",
    "#保持in_features不变，修改out_features=3\n",
    "model.fc = nn.Sequential(nn.Linear(num_ftrs,6),\n",
    "                            nn.LogSoftmax(dim=1))"
   ]
  },
  {
   "cell_type": "code",
   "execution_count": null,
   "id": "b32b10a3-5513-4931-8b70-a3fac5a41365",
   "metadata": {
    "tags": []
   },
   "outputs": [],
   "source": [
    "all_layer_names = [name for name, _ in model.named_parameters()] # model.named_modules() model.named_parameters()\n",
    "free_layer_names = all_layer_names[:]#[-20:]\n",
    "free_layer_names"
   ]
  },
  {
   "cell_type": "code",
   "execution_count": 32,
   "id": "0d6a877e-92d8-41b1-b538-c75d389e5452",
   "metadata": {
    "tags": []
   },
   "outputs": [
    {
     "name": "stdout",
     "output_type": "stream",
     "text": [
      "Number of parameters in resnet50 model: 23520326\n"
     ]
    }
   ],
   "source": [
    "import torch\n",
    "from timm.models import create_model\n",
    "\n",
    "num_params = sum(p.numel() for p in model.parameters()) # 模型的参数个数\n",
    "print(f\"Number of parameters in resnet50 model: {num_params}\")\n"
   ]
  },
  {
   "cell_type": "code",
   "execution_count": 34,
   "id": "1f30d78b-495d-466d-b596-db7d9205f99d",
   "metadata": {
    "tags": []
   },
   "outputs": [],
   "source": [
    "# Data preprocessing and augmentation\n",
    "transform = transforms.Compose([\n",
    "    transforms.Resize((224, 224)), # 调整形状\n",
    "    # transforms.RandomHorizontalFlip(),\n",
    "    transforms.ToTensor(), # 转成tensor格式\n",
    "    # transforms.Normalize(mean=[0.485, 0.456, 0.406], std=[0.229, 0.224, 0.225]),\n",
    "])\n",
    "# train_transform = transforms.Compose([\n",
    "#     transforms.Resize((224, 224)),\n",
    "#     # transforms.RandomHorizontalFlip(),\n",
    "#     transforms.ToTensor(),\n",
    "# ])"
   ]
  },
  {
   "cell_type": "code",
   "execution_count": 35,
   "id": "5863ddd8-f023-4870-a05f-5469cfb41f48",
   "metadata": {
    "tags": []
   },
   "outputs": [],
   "source": [
    "\n",
    "# transform = None\n",
    "data_dir = \"/root/autodl-tmp/project/MedSAM-0.1/data/MULTI_TUMOR_split\" # 数据存储的根目录\n",
    "\n",
    "train_data = datasets.ImageFolder(os.path.join(data_dir, \"train\")) # 对训练数据做增强，增加LGG类型的数量\n",
    "# train_data = datasets.ImageFolder(os.path.join(data_dir, \"train\"), transform=transform) # 不对训练数据做增强，使用focal loss解决不平衡问题\n",
    "val_data = datasets.ImageFolder(os.path.join(data_dir, \"val\"), transform=transform)\n",
    "test_data = datasets.ImageFolder(os.path.join(data_dir, \"test\"), transform=transform)\n",
    "\n",
    "# train_loader = DataLoader(train_data, batch_size=32, shuffle=True)\n",
    "# train_data = train_loader.dataset[:1000]\n",
    "\n",
    "# 从训练集中划分0.2作为验证集\n",
    "# 划分训练集和验证集\n",
    "# val_size = int(0.2 * len(train_data))\n",
    "# train_size = len(train_data) - val_size\n",
    "\n",
    "# val_size = 1000\n",
    "# train_size = 6000\n",
    "# other_size = len(train_data) - train_size - val_size\n",
    "# print(train_size, val_size)\n",
    "# train_data, val_data = random_split(train_data, [train_size, val_size])\n",
    "# train_data, val_data, _ = random_split(train_data, [train_size, val_size, other_size]) # 训练数据集切分成训练集和验证集\n",
    "# print(len(train_data))\n",
    "batch_size=64\n",
    "# train_loader = DataLoader(train_data, batch_size=batch_size, shuffle=True, num_workers=64)\n",
    "val_loader = DataLoader(val_data, batch_size=batch_size, shuffle=False, num_workers=64)\n",
    "test_loader = DataLoader(test_data, batch_size=batch_size, shuffle=False, num_workers=64)"
   ]
  },
  {
   "cell_type": "code",
   "execution_count": 37,
   "id": "fbb7ce4b-7c79-4edf-8b76-1b1536664d68",
   "metadata": {
    "tags": []
   },
   "outputs": [
    {
     "data": {
      "text/plain": [
       "(1242, 154, 158, 1242)"
      ]
     },
     "execution_count": 37,
     "metadata": {},
     "output_type": "execute_result"
    }
   ],
   "source": [
    "len(train_data), len(val_data), len(test_data), len(augmented_dataset)\n",
    "# len(train_data), len(test_data)"
   ]
  },
  {
   "cell_type": "code",
   "execution_count": 38,
   "id": "ea1799c8-aedb-4f80-8870-6d0feb67d9fc",
   "metadata": {
    "tags": []
   },
   "outputs": [],
   "source": [
    "# 加载dataset中的每一项，统计其中的0和1数量，构造出targets数组\n",
    "targets = []\n",
    "loader = DataLoader(augmented_dataset, batch_size=1, shuffle=False, num_workers=64)\n",
    "for images, labels in loader:\n",
    "    targets.append(labels.item())\n",
    "    # print(labels)\n",
    "    # break"
   ]
  },
  {
   "cell_type": "code",
   "execution_count": 39,
   "id": "70882207-dca8-4c63-ad5a-f43e8843e02a",
   "metadata": {
    "tags": []
   },
   "outputs": [
    {
     "data": {
      "text/plain": [
       "(276, 371)"
      ]
     },
     "execution_count": 39,
     "metadata": {},
     "output_type": "execute_result"
    }
   ],
   "source": [
    "targets.count(1), targets.count(0)"
   ]
  },
  {
   "cell_type": "code",
   "execution_count": 40,
   "id": "94a3b6c0-00b6-42e5-adbf-0dcb768b5b8d",
   "metadata": {
    "tags": []
   },
   "outputs": [],
   "source": [
    "# "
   ]
  },
  {
   "cell_type": "code",
   "execution_count": 42,
   "id": "f50b1b14-fdaa-4836-8e64-823df30081f4",
   "metadata": {
    "tags": []
   },
   "outputs": [],
   "source": [
    "# 在次定义训练曲线绘制函数与混淆矩阵绘制函数\n",
    "def plot_train_curve(modal ,train_acc_history, val_acc_history, val_auc_history, val_f1_history, val_r_history, val_fpr, val_tpr):\n",
    "    # 传入的参数train acc; val acc; val auc; val f1; val r; val fpr; val tpr\n",
    "    plt.figure()\n",
    "    plt.plot(train_acc_history, label=\"Train Acc\")\n",
    "    plt.plot(val_acc_history, label=\"Val Acc\")\n",
    "    plt.xlabel(\"Epoch\")\n",
    "    plt.ylabel(\"Accuracy\")\n",
    "    plt.legend()\n",
    "    plt.savefig('./inde_train_curve_images/' + 'Acc_curve_of_' + modal + '.png') # 存储acc的训练曲线\n",
    "    # plt.show()\n",
    "    plt.close()\n",
    "\n",
    "    plt.figure()\n",
    "    plt.plot(val_auc_history, label=\"Val AUC\")\n",
    "    plt.xlabel(\"Epoch\")\n",
    "    plt.ylabel(\"AUC\")\n",
    "    plt.legend()\n",
    "    plt.savefig('./inde_train_curve_images/' + 'Auc_curve_of_' + modal + '.png') # 存储val auc的训练曲线\n",
    "    # plt.show()\n",
    "    plt.close()\n",
    "\n",
    "    plt.figure()\n",
    "    plt.plot(val_f1_history, label=\"Val F1\")\n",
    "    plt.xlabel(\"Epoch\")\n",
    "    plt.ylabel(\"F1 Score\")\n",
    "    plt.legend()\n",
    "    plt.savefig('./inde_train_curve_images/' + 'F1_curve_of_' + modal + '.png') # 存储val f1的训练曲线\n",
    "    # plt.show()\n",
    "    plt.close()\n",
    "\n",
    "    plt.figure()\n",
    "    plt.plot(val_r_history, label=\"Val Recall\")\n",
    "    plt.xlabel(\"Epoch\")\n",
    "    plt.ylabel(\"Recall\")\n",
    "    plt.legend()\n",
    "    plt.savefig('./inde_train_curve_images/' + 'Recall_curve_of_' + modal + '.png') # 存储val recall的训练曲线\n",
    "    # plt.show()\n",
    "    plt.close()\n",
    "    \n",
    "    plt.figure()\n",
    "    plt.plot(val_fpr, val_tpr, label=f'ROC curve (area = {val_auc:.2f})')\n",
    "    plt.plot([0, 1], [0, 1], linestyle='--')\n",
    "    plt.xlim([0.0, 1.0])\n",
    "    plt.ylim([0.0, 1.05])\n",
    "    plt.xlabel('False Positive Rate')\n",
    "    plt.ylabel('True Positive Rate')\n",
    "    plt.title('Receiver Operating Characteristic')\n",
    "    plt.legend(loc=\"lower right\")\n",
    "    plt.savefig('./inde_train_curve_images/' + 'ROC_curve_of_' + modal + '.png') # 存储ROC\n",
    "    # plt.show()\n",
    "    plt.close()\n",
    "\n",
    "def plot_confusion_martix(kfold, y_true, y_pred): # 传入的是训练预测得到的标签与真实的标签\n",
    "    # Define class labels\n",
    "    labels = ['HGG','LGG', 'normal']  # 用您的实际类别标签替换... LGG表示低级别胶质瘤，HGG表示高级别胶质瘤\n",
    "\n",
    "    # Plot confusion matrix\n",
    "    conf_mat = confusion_matrix(y_true, y_pred)\n",
    "    plt.figure()\n",
    "    sns.heatmap(conf_mat, annot=True, fmt=\".0f\", cmap='Blues', xticklabels=labels, yticklabels=labels)\n",
    "    plt.xlabel(\"Predicted labels\")\n",
    "    plt.ylabel(\"True labels\")\n",
    "    plt.title(\"Confusion Matrix\")\n",
    "    plt.savefig('./inde_val_confusion_martix_figs/' + 'Confusion_martix_of_' + modal + '.png')\n",
    "    # plt.show()\n",
    "    plt.close()"
   ]
  },
  {
   "cell_type": "code",
   "execution_count": 43,
   "id": "62d5dc64-39f2-4330-acff-ea5e731456fe",
   "metadata": {
    "scrolled": true,
    "tags": []
   },
   "outputs": [
    {
     "data": {
      "text/plain": [
       "161"
      ]
     },
     "execution_count": 43,
     "metadata": {},
     "output_type": "execute_result"
    }
   ],
   "source": [
    "# Set loss function and optimizer\n",
    "# 训练 验证 测试 基于scan划分，独立测试\n",
    "\n",
    "# 迁移训练的层的设置\n",
    "flair_model = copy.deepcopy(model) # 不同输入的模型结果需要分开存储\n",
    "flair_model.to(device)\n",
    "flair_params_to_update = [] # 需要更新的层\n",
    "\n",
    "# 只更新部分层\n",
    "for name, param in flair_model.named_parameters():\n",
    "    # free后30层\n",
    "    # if name.find(\"layers.3\") == -1: # 当前层不含layer.3不更新权重\n",
    "    #     param.requires_grad = False\n",
    "    # if name.find(\"layers.3\") == -1 and name not in ['norm.weight', 'norm.bias', 'head.weight', 'head.bias']: #  当前层不含layer.3且name不等于列表中的\n",
    "    #     param.requires_grad = False\n",
    "    # else: # 后30层网络需要训练\n",
    "    #     param.requires_grad = True # 手动设置，不然不会自动赋值\n",
    "    #     flair_params_to_update.append(param)  \n",
    "    \n",
    "    # free后2层\n",
    "    # if name not in ['norm.weight', 'norm.bias', 'head.weight', 'head.bias']: # 只训练最后几层\n",
    "    if name not in free_layer_names: # 只训练最后几层\n",
    "        param.requires_grad = False \n",
    "    else:\n",
    "        param.requires_grad = True # 手动设置，不然不会自动赋值\n",
    "        flair_params_to_update.append(param)\n",
    "        \n",
    "        \n",
    "# # 对需要更新的层，设置dropout防止过拟合\n",
    "# new_dropout = 0.5  # 设置为0.5，即50%的Dropout\n",
    "# # 遍历模型的参数，找到所有的Dropout层，并设置新的Dropout值\n",
    "# for name, module in flair_model.named_modules():\n",
    "#     # 修改后30层的dropout\n",
    "#     if name.find(\"layers.3\") == -1: # 当前层不含layer.3不更新权重\n",
    "#         pass\n",
    "#     if name.find(\"layers.3\") == -1 and name not in ['norm.weight', 'norm.bias', 'head.weight', 'head.bias']: #  当前层不含layer.3且name不等于列表中的\n",
    "#         pass\n",
    "#     else: # 后30层网络需要训练\n",
    "#         if isinstance(module, nn.Dropout):\n",
    "#             # print(name)\n",
    "#             module.p = new_dropout\n",
    "# flair_model\n",
    "len(flair_params_to_update)"
   ]
  },
  {
   "cell_type": "code",
   "execution_count": 44,
   "id": "56f6a5a9-4f1e-4a77-9dd7-643d6e368eba",
   "metadata": {
    "scrolled": true,
    "tags": []
   },
   "outputs": [],
   "source": [
    "criterion = nn.CrossEntropyLoss()\n",
    "alpha = torch.tensor([3.0, 1.0])\n",
    "# print(type(alpha))\n",
    "# criterion = FocalLoss(alpha=[3.0, 1.0], gamma=2) # 自定义的focal loss\n",
    "# criterion = nn.BCELoss()\n",
    "# optimizer = optim.Adam(model.parameters(), lr=1e-4)\n",
    "optimizer = optim.Adam(flair_params_to_update, lr=5e-3)\n",
    "# # 学习率动态变化\n",
    "# dynamic_lr = CosineAnnealingLR(optimizer, T_max=10)\n",
    "# print(\"初始化的学习率：\",optimizer.defaults['lr'])\n",
    "\n",
    "# lr_list = []\n",
    "# for epoch in range(1,101):\n",
    "#     optimizer.zero_grad()\n",
    "#     optimizer.step()\n",
    "#     print(\"第%d个epoch的学习率：%f\" % (epoch, optimizer.param_groups[0]['lr']))\n",
    "#     lr_list.append(optimizer.param_groups[0]['lr'])\n",
    "#     dynamic_lr.step()\n",
    "    \n",
    "# #画出epoch的变化图\n",
    "# plt.plot(list(range(1,101)),lr_list)\n",
    "# plt.xlabel(\"epoch\")\n",
    "# plt.ylabel(\"lr\")\n",
    "# plt.title(\"learning rate curve !\")\n",
    "# plt.show()"
   ]
  },
  {
   "cell_type": "code",
   "execution_count": 45,
   "id": "18a80558-9ca4-49e0-bc1a-c47aa0941edc",
   "metadata": {
    "scrolled": true,
    "tags": []
   },
   "outputs": [
    {
     "name": "stdout",
     "output_type": "stream",
     "text": [
      "Epoch 1/500, Train Acc: 0.2593, Val Acc: 0.2468, Val AUC: 0.4066, Val F1: 0.1450, Val Recall: 0.2468, Val Loss: 953.5733, Early Stop: 30\n",
      "Epoch 2/500, Train Acc: 0.4219, Val Acc: 0.2468, Val AUC: 0.7373, Val F1: 0.1588, Val Recall: 0.2468, Val Loss: 2.6308, Early Stop: 29\n",
      "Epoch 3/500, Train Acc: 0.4694, Val Acc: 0.4026, Val AUC: 0.8110, Val F1: 0.3506, Val Recall: 0.4026, Val Loss: 1.8555, Early Stop: 30\n",
      "Epoch 4/500, Train Acc: 0.5185, Val Acc: 0.3701, Val AUC: 0.7461, Val F1: 0.3531, Val Recall: 0.3701, Val Loss: 3.9298, Early Stop: 29\n",
      "Epoch 5/500, Train Acc: 0.5346, Val Acc: 0.5065, Val AUC: 0.7755, Val F1: 0.4677, Val Recall: 0.5065, Val Loss: 1.5735, Early Stop: 30\n",
      "Epoch 6/500, Train Acc: 0.5451, Val Acc: 0.3506, Val AUC: 0.7284, Val F1: 0.3203, Val Recall: 0.3506, Val Loss: 2.0048, Early Stop: 29\n",
      "Epoch 7/500, Train Acc: 0.6337, Val Acc: 0.5974, Val AUC: 0.8480, Val F1: 0.5695, Val Recall: 0.5974, Val Loss: 1.2736, Early Stop: 30\n",
      "Epoch 8/500, Train Acc: 0.6538, Val Acc: 0.5844, Val AUC: 0.8194, Val F1: 0.5698, Val Recall: 0.5844, Val Loss: 1.4549, Early Stop: 29\n",
      "Epoch 9/500, Train Acc: 0.7037, Val Acc: 0.5779, Val AUC: 0.8620, Val F1: 0.5589, Val Recall: 0.5779, Val Loss: 1.3963, Early Stop: 28\n",
      "Epoch 10/500, Train Acc: 0.7045, Val Acc: 0.5519, Val AUC: 0.7537, Val F1: 0.5514, Val Recall: 0.5519, Val Loss: 1.6610, Early Stop: 27\n",
      "Epoch 11/500, Train Acc: 0.7826, Val Acc: 0.6948, Val AUC: 0.8449, Val F1: 0.6979, Val Recall: 0.6948, Val Loss: 1.0923, Early Stop: 30\n",
      "Epoch 12/500, Train Acc: 0.7915, Val Acc: 0.5844, Val AUC: 0.7850, Val F1: 0.5823, Val Recall: 0.5844, Val Loss: 1.6225, Early Stop: 29\n",
      "Epoch 13/500, Train Acc: 0.8116, Val Acc: 0.6558, Val AUC: 0.8953, Val F1: 0.6338, Val Recall: 0.6558, Val Loss: 1.5006, Early Stop: 28\n",
      "Epoch 14/500, Train Acc: 0.8454, Val Acc: 0.7857, Val AUC: 0.9159, Val F1: 0.7718, Val Recall: 0.7857, Val Loss: 0.7906, Early Stop: 30\n",
      "Epoch 15/500, Train Acc: 0.8728, Val Acc: 0.5974, Val AUC: 0.8301, Val F1: 0.5906, Val Recall: 0.5974, Val Loss: 1.4999, Early Stop: 29\n",
      "Epoch 16/500, Train Acc: 0.8623, Val Acc: 0.6104, Val AUC: 0.8529, Val F1: 0.6008, Val Recall: 0.6104, Val Loss: 1.5743, Early Stop: 28\n",
      "Epoch 17/500, Train Acc: 0.8349, Val Acc: 0.6558, Val AUC: 0.8922, Val F1: 0.6383, Val Recall: 0.6558, Val Loss: 1.1522, Early Stop: 27\n",
      "Epoch 18/500, Train Acc: 0.8800, Val Acc: 0.7403, Val AUC: 0.9032, Val F1: 0.7402, Val Recall: 0.7403, Val Loss: 1.1213, Early Stop: 26\n",
      "Epoch 19/500, Train Acc: 0.8897, Val Acc: 0.6494, Val AUC: 0.9179, Val F1: 0.6493, Val Recall: 0.6494, Val Loss: 1.4228, Early Stop: 25\n",
      "Epoch 20/500, Train Acc: 0.9203, Val Acc: 0.8636, Val AUC: 0.9667, Val F1: 0.8629, Val Recall: 0.8636, Val Loss: 0.3543, Early Stop: 30\n",
      "Epoch 21/500, Train Acc: 0.9404, Val Acc: 0.8247, Val AUC: 0.9564, Val F1: 0.8223, Val Recall: 0.8247, Val Loss: 0.7909, Early Stop: 29\n",
      "Epoch 22/500, Train Acc: 0.8519, Val Acc: 0.7792, Val AUC: 0.9618, Val F1: 0.7752, Val Recall: 0.7792, Val Loss: 0.7371, Early Stop: 28\n",
      "Epoch 23/500, Train Acc: 0.9291, Val Acc: 0.8247, Val AUC: 0.9527, Val F1: 0.8250, Val Recall: 0.8247, Val Loss: 0.5287, Early Stop: 27\n",
      "Epoch 24/500, Train Acc: 0.9428, Val Acc: 0.8571, Val AUC: 0.9765, Val F1: 0.8560, Val Recall: 0.8571, Val Loss: 0.4545, Early Stop: 26\n",
      "Epoch 25/500, Train Acc: 0.9541, Val Acc: 0.8506, Val AUC: 0.9603, Val F1: 0.8516, Val Recall: 0.8506, Val Loss: 0.4310, Early Stop: 25\n",
      "Epoch 26/500, Train Acc: 0.9581, Val Acc: 0.8701, Val AUC: 0.9706, Val F1: 0.8703, Val Recall: 0.8701, Val Loss: 0.4444, Early Stop: 30\n",
      "Epoch 27/500, Train Acc: 0.9686, Val Acc: 0.9156, Val AUC: 0.9745, Val F1: 0.9148, Val Recall: 0.9156, Val Loss: 0.2544, Early Stop: 30\n",
      "Epoch 28/500, Train Acc: 0.9815, Val Acc: 0.9026, Val AUC: 0.9819, Val F1: 0.9010, Val Recall: 0.9026, Val Loss: 0.4822, Early Stop: 29\n",
      "Epoch 29/500, Train Acc: 0.9597, Val Acc: 0.8571, Val AUC: 0.9429, Val F1: 0.8574, Val Recall: 0.8571, Val Loss: 0.6337, Early Stop: 28\n",
      "Epoch 30/500, Train Acc: 0.9678, Val Acc: 0.9026, Val AUC: 0.9515, Val F1: 0.9016, Val Recall: 0.9026, Val Loss: 0.5364, Early Stop: 27\n",
      "Epoch 31/500, Train Acc: 0.9485, Val Acc: 0.7662, Val AUC: 0.9382, Val F1: 0.7741, Val Recall: 0.7662, Val Loss: 1.5806, Early Stop: 26\n",
      "Epoch 32/500, Train Acc: 0.9509, Val Acc: 0.8247, Val AUC: 0.8922, Val F1: 0.8325, Val Recall: 0.8247, Val Loss: 1.2690, Early Stop: 25\n",
      "Epoch 33/500, Train Acc: 0.9436, Val Acc: 0.8636, Val AUC: 0.9529, Val F1: 0.8637, Val Recall: 0.8636, Val Loss: 0.4886, Early Stop: 24\n",
      "Epoch 34/500, Train Acc: 0.9501, Val Acc: 0.8766, Val AUC: 0.9684, Val F1: 0.8751, Val Recall: 0.8766, Val Loss: 0.5969, Early Stop: 23\n",
      "Epoch 35/500, Train Acc: 0.9742, Val Acc: 0.8961, Val AUC: 0.9725, Val F1: 0.8943, Val Recall: 0.8961, Val Loss: 0.2905, Early Stop: 22\n",
      "Epoch 36/500, Train Acc: 0.9710, Val Acc: 0.9351, Val AUC: 0.9870, Val F1: 0.9354, Val Recall: 0.9351, Val Loss: 0.2768, Early Stop: 30\n",
      "Epoch 37/500, Train Acc: 0.9718, Val Acc: 0.8247, Val AUC: 0.9890, Val F1: 0.8223, Val Recall: 0.8247, Val Loss: 1.0441, Early Stop: 29\n",
      "Epoch 38/500, Train Acc: 0.9807, Val Acc: 0.8766, Val AUC: 0.9801, Val F1: 0.8765, Val Recall: 0.8766, Val Loss: 0.5088, Early Stop: 28\n",
      "Epoch 39/500, Train Acc: 0.9863, Val Acc: 0.8896, Val AUC: 0.9870, Val F1: 0.8914, Val Recall: 0.8896, Val Loss: 0.2848, Early Stop: 27\n",
      "Epoch 40/500, Train Acc: 0.9783, Val Acc: 0.8636, Val AUC: 0.9892, Val F1: 0.8678, Val Recall: 0.8636, Val Loss: 0.4554, Early Stop: 26\n",
      "Epoch 41/500, Train Acc: 0.9775, Val Acc: 0.9026, Val AUC: 0.9914, Val F1: 0.9016, Val Recall: 0.9026, Val Loss: 0.3985, Early Stop: 25\n",
      "Epoch 42/500, Train Acc: 0.9855, Val Acc: 0.9221, Val AUC: 0.9821, Val F1: 0.9234, Val Recall: 0.9221, Val Loss: 0.4210, Early Stop: 24\n",
      "Epoch 43/500, Train Acc: 0.9879, Val Acc: 0.9156, Val AUC: 0.9880, Val F1: 0.9145, Val Recall: 0.9156, Val Loss: 0.3374, Early Stop: 23\n",
      "Epoch 44/500, Train Acc: 0.9968, Val Acc: 0.9286, Val AUC: 0.9931, Val F1: 0.9278, Val Recall: 0.9286, Val Loss: 0.1441, Early Stop: 22\n",
      "Epoch 45/500, Train Acc: 0.9968, Val Acc: 0.9675, Val AUC: 0.9975, Val F1: 0.9676, Val Recall: 0.9675, Val Loss: 0.1107, Early Stop: 30\n",
      "Epoch 46/500, Train Acc: 0.9992, Val Acc: 0.9351, Val AUC: 0.9895, Val F1: 0.9358, Val Recall: 0.9351, Val Loss: 0.1623, Early Stop: 29\n",
      "Epoch 47/500, Train Acc: 0.9960, Val Acc: 0.9286, Val AUC: 0.9885, Val F1: 0.9287, Val Recall: 0.9286, Val Loss: 0.2104, Early Stop: 28\n",
      "Epoch 48/500, Train Acc: 0.9992, Val Acc: 0.9416, Val AUC: 0.9887, Val F1: 0.9421, Val Recall: 0.9416, Val Loss: 0.2224, Early Stop: 27\n",
      "Epoch 49/500, Train Acc: 1.0000, Val Acc: 0.9416, Val AUC: 0.9914, Val F1: 0.9416, Val Recall: 0.9416, Val Loss: 0.1956, Early Stop: 26\n",
      "Epoch 50/500, Train Acc: 1.0000, Val Acc: 0.9545, Val AUC: 0.9944, Val F1: 0.9542, Val Recall: 0.9545, Val Loss: 0.1415, Early Stop: 25\n",
      "Epoch 51/500, Train Acc: 1.0000, Val Acc: 0.9416, Val AUC: 0.9936, Val F1: 0.9405, Val Recall: 0.9416, Val Loss: 0.1721, Early Stop: 24\n",
      "Epoch 52/500, Train Acc: 1.0000, Val Acc: 0.9545, Val AUC: 0.9936, Val F1: 0.9550, Val Recall: 0.9545, Val Loss: 0.1667, Early Stop: 23\n",
      "Epoch 53/500, Train Acc: 1.0000, Val Acc: 0.9545, Val AUC: 0.9939, Val F1: 0.9546, Val Recall: 0.9545, Val Loss: 0.1633, Early Stop: 22\n",
      "Epoch 54/500, Train Acc: 1.0000, Val Acc: 0.9740, Val AUC: 0.9944, Val F1: 0.9741, Val Recall: 0.9740, Val Loss: 0.1627, Early Stop: 30\n",
      "Epoch 55/500, Train Acc: 0.9992, Val Acc: 0.9610, Val AUC: 0.9963, Val F1: 0.9612, Val Recall: 0.9610, Val Loss: 0.1208, Early Stop: 29\n",
      "Epoch 56/500, Train Acc: 1.0000, Val Acc: 0.9805, Val AUC: 0.9971, Val F1: 0.9806, Val Recall: 0.9805, Val Loss: 0.0868, Early Stop: 30\n",
      "Epoch 57/500, Train Acc: 1.0000, Val Acc: 0.9870, Val AUC: 0.9975, Val F1: 0.9871, Val Recall: 0.9870, Val Loss: 0.1073, Early Stop: 30\n",
      "Epoch 58/500, Train Acc: 0.9992, Val Acc: 0.9675, Val AUC: 0.9968, Val F1: 0.9676, Val Recall: 0.9675, Val Loss: 0.1230, Early Stop: 29\n",
      "Epoch 59/500, Train Acc: 0.9992, Val Acc: 0.9416, Val AUC: 0.9936, Val F1: 0.9424, Val Recall: 0.9416, Val Loss: 0.1508, Early Stop: 28\n",
      "Epoch 60/500, Train Acc: 0.9984, Val Acc: 0.9416, Val AUC: 0.9917, Val F1: 0.9416, Val Recall: 0.9416, Val Loss: 0.2011, Early Stop: 27\n",
      "Epoch 61/500, Train Acc: 0.9662, Val Acc: 0.7273, Val AUC: 0.8882, Val F1: 0.7288, Val Recall: 0.7273, Val Loss: 3.4514, Early Stop: 26\n",
      "Epoch 62/500, Train Acc: 0.8744, Val Acc: 0.2727, Val AUC: 0.3684, Val F1: 0.2706, Val Recall: 0.2727, Val Loss: 12.6208, Early Stop: 25\n",
      "Epoch 63/500, Train Acc: 0.9034, Val Acc: 0.6429, Val AUC: 0.8900, Val F1: 0.6373, Val Recall: 0.6429, Val Loss: 1.7559, Early Stop: 24\n",
      "Epoch 64/500, Train Acc: 0.9332, Val Acc: 0.7727, Val AUC: 0.9150, Val F1: 0.7859, Val Recall: 0.7727, Val Loss: 1.3819, Early Stop: 23\n",
      "Epoch 65/500, Train Acc: 0.9686, Val Acc: 0.8961, Val AUC: 0.9860, Val F1: 0.8987, Val Recall: 0.8961, Val Loss: 0.3915, Early Stop: 22\n",
      "Epoch 66/500, Train Acc: 0.9911, Val Acc: 0.9416, Val AUC: 0.9926, Val F1: 0.9418, Val Recall: 0.9416, Val Loss: 0.1713, Early Stop: 21\n",
      "Epoch 67/500, Train Acc: 0.9936, Val Acc: 0.9416, Val AUC: 0.9919, Val F1: 0.9418, Val Recall: 0.9416, Val Loss: 0.1574, Early Stop: 20\n",
      "Epoch 68/500, Train Acc: 0.9928, Val Acc: 0.9221, Val AUC: 0.9863, Val F1: 0.9225, Val Recall: 0.9221, Val Loss: 0.3390, Early Stop: 19\n",
      "Epoch 69/500, Train Acc: 0.9928, Val Acc: 0.9610, Val AUC: 0.9931, Val F1: 0.9615, Val Recall: 0.9610, Val Loss: 0.1913, Early Stop: 18\n",
      "Epoch 70/500, Train Acc: 0.9863, Val Acc: 0.9156, Val AUC: 0.9814, Val F1: 0.9166, Val Recall: 0.9156, Val Loss: 0.2617, Early Stop: 17\n",
      "Epoch 71/500, Train Acc: 0.9911, Val Acc: 0.9221, Val AUC: 0.9941, Val F1: 0.9241, Val Recall: 0.9221, Val Loss: 0.3016, Early Stop: 16\n",
      "Epoch 72/500, Train Acc: 0.9944, Val Acc: 0.9610, Val AUC: 0.9904, Val F1: 0.9614, Val Recall: 0.9610, Val Loss: 0.1121, Early Stop: 15\n",
      "Epoch 73/500, Train Acc: 0.9976, Val Acc: 0.9481, Val AUC: 0.9863, Val F1: 0.9483, Val Recall: 0.9481, Val Loss: 0.1857, Early Stop: 14\n",
      "Decay learning rate to lr: 0.004827586206896552.\n",
      "Epoch 74/500, Train Acc: 1.0000, Val Acc: 0.9481, Val AUC: 0.9873, Val F1: 0.9491, Val Recall: 0.9481, Val Loss: 0.2018, Early Stop: 13\n",
      "Decay learning rate to lr: 0.004655172413793104.\n",
      "Epoch 75/500, Train Acc: 1.0000, Val Acc: 0.9545, Val AUC: 0.9904, Val F1: 0.9550, Val Recall: 0.9545, Val Loss: 0.1462, Early Stop: 12\n",
      "Decay learning rate to lr: 0.004482758620689656.\n",
      "Epoch 76/500, Train Acc: 0.9992, Val Acc: 0.9610, Val AUC: 0.9914, Val F1: 0.9614, Val Recall: 0.9610, Val Loss: 0.1327, Early Stop: 11\n",
      "Decay learning rate to lr: 0.004310344827586208.\n",
      "Epoch 77/500, Train Acc: 0.9976, Val Acc: 0.9545, Val AUC: 0.9882, Val F1: 0.9556, Val Recall: 0.9545, Val Loss: 0.2519, Early Stop: 10\n",
      "Decay learning rate to lr: 0.00413793103448276.\n",
      "Epoch 78/500, Train Acc: 0.9871, Val Acc: 0.9351, Val AUC: 0.9902, Val F1: 0.9359, Val Recall: 0.9351, Val Loss: 0.2482, Early Stop: 9\n",
      "Decay learning rate to lr: 0.0039655172413793115.\n",
      "Epoch 79/500, Train Acc: 0.9839, Val Acc: 0.9416, Val AUC: 0.9770, Val F1: 0.9422, Val Recall: 0.9416, Val Loss: 0.3110, Early Stop: 8\n",
      "Decay learning rate to lr: 0.0037931034482758634.\n",
      "Epoch 80/500, Train Acc: 0.9952, Val Acc: 0.9286, Val AUC: 0.9909, Val F1: 0.9295, Val Recall: 0.9286, Val Loss: 0.2374, Early Stop: 7\n",
      "Decay learning rate to lr: 0.003620689655172415.\n",
      "Epoch 81/500, Train Acc: 0.9992, Val Acc: 0.9675, Val AUC: 0.9941, Val F1: 0.9682, Val Recall: 0.9675, Val Loss: 0.1474, Early Stop: 6\n",
      "Decay learning rate to lr: 0.0034482758620689663.\n",
      "Epoch 82/500, Train Acc: 0.9992, Val Acc: 0.9416, Val AUC: 0.9904, Val F1: 0.9423, Val Recall: 0.9416, Val Loss: 0.2363, Early Stop: 5\n",
      "Decay learning rate to lr: 0.0032758620689655182.\n",
      "Epoch 83/500, Train Acc: 0.9984, Val Acc: 0.9416, Val AUC: 0.9892, Val F1: 0.9427, Val Recall: 0.9416, Val Loss: 0.2508, Early Stop: 4\n",
      "Decay learning rate to lr: 0.00310344827586207.\n",
      "Epoch 84/500, Train Acc: 1.0000, Val Acc: 0.9416, Val AUC: 0.9877, Val F1: 0.9427, Val Recall: 0.9416, Val Loss: 0.2197, Early Stop: 3\n",
      "Decay learning rate to lr: 0.0029310344827586216.\n",
      "Epoch 85/500, Train Acc: 1.0000, Val Acc: 0.9545, Val AUC: 0.9900, Val F1: 0.9552, Val Recall: 0.9545, Val Loss: 0.1837, Early Stop: 2\n",
      "Decay learning rate to lr: 0.002758620689655173.\n",
      "Epoch 86/500, Train Acc: 0.9992, Val Acc: 0.9481, Val AUC: 0.9904, Val F1: 0.9489, Val Recall: 0.9481, Val Loss: 0.2046, Early Stop: 1\n",
      "Decay learning rate to lr: 0.002586206896551725.\n"
     ]
    }
   ],
   "source": [
    "# Training and validation\n",
    "num_epochs = 500\n",
    "train_acc_history = []\n",
    "val_acc_history = []\n",
    "val_auc_history = []\n",
    "val_f1_history = []\n",
    "val_r_history = []\n",
    "\n",
    "min_loss = float('inf') # 初始min_loss无穷大\n",
    "best_acc = 0.0\n",
    "best_auc = 0.0\n",
    "patience = 30 # patience原来设成80，设为30当连续20个epoch不再下降时，改变学习率\n",
    "early_stop = patience\n",
    "change_rate = 15 # 多少个epoch不发生提升时，改变学习率\n",
    "\n",
    "for epoch in range(num_epochs):\n",
    "    # Training\n",
    "    flair_model.train()\n",
    "    train_correct = 0\n",
    "    train_total = 0\n",
    "\n",
    "    for images, labels in train_loader:\n",
    "        images, labels = images.to(device), labels.to(device) # 图像与标签\n",
    "        optimizer.zero_grad()\n",
    "        outputs = flair_model(images)\n",
    "        \n",
    "        loss = criterion(outputs, labels) # 交叉熵损失函数集成了softmax，直接将模型的输出当成参数传入即可，不需要额外的softmax操作（否则报错）\n",
    "        # print(loss)\n",
    "        loss.backward()\n",
    "        optimizer.step()\n",
    "\n",
    "\n",
    "        # _, predicted = torch.max(outputs, 1)\n",
    "        predicted = torch.argmax(outputs, 1) # argmax获得标签，用于计算acc等指标\n",
    "        train_total += labels.size(0)\n",
    "        train_correct += (predicted == labels).sum().item()\n",
    "        \n",
    "    # 调整学习率, 一个epoch结束后调整学习率\n",
    "    # print('current epoch lr:', optimizer.param_groups[0]['lr'])\n",
    "    # dynamic_lr.step()\n",
    "    lr = optimizer.param_groups[0]['lr'] # 当前epoch的学习率\n",
    "    # 当early stop连续20次指标不再上升时，改变学习率\n",
    "    if early_stop < (patience - change_rate):\n",
    "        lr -= lr / (change_rate + early_stop)\n",
    "        for param_group in optimizer.param_groups:\n",
    "            param_group['lr'] = lr\n",
    "        print ('Decay learning rate to lr: {}.'.format(lr))\n",
    "    \n",
    "    train_acc = train_correct / train_total\n",
    "    train_acc_history.append(train_acc)\n",
    "\n",
    "    \n",
    "    # Validation\n",
    "    flair_model.eval()\n",
    "    val_correct = 0\n",
    "    val_total = 0\n",
    "    val_outputs_list = []\n",
    "    val_labels_list = []\n",
    "    val_loss = 0\n",
    "\n",
    "    with torch.no_grad():\n",
    "        for images, labels in val_loader:\n",
    "            images, labels = images.to(device), labels.to(device)\n",
    "\n",
    "            outputs = flair_model(images)\n",
    "            loss = criterion(outputs, labels)\n",
    "            val_loss += loss.item()\n",
    "            \n",
    "            # _, predicted = torch.max(outputs, 1)\n",
    "            predicted = torch.argmax(outputs, 1)\n",
    "    \n",
    "            val_total += labels.size(0)\n",
    "            val_correct += (predicted == labels).sum().item()\n",
    "            val_outputs_list.append(outputs.cpu().numpy())\n",
    "            val_labels_list.append(labels.cpu().numpy())\n",
    "\n",
    "        val_acc = val_correct / val_total\n",
    "        val_acc_history.append(val_acc)\n",
    "\n",
    "        val_outputs = np.concatenate(val_outputs_list, axis=0)\n",
    "        val_labels = np.concatenate(val_labels_list, axis=0)\n",
    "\n",
    "        val_fpr, val_tpr, _ = roc_curve(val_labels, val_outputs[:, 1], pos_label=1) # 计算auc，val_outputs[:, 1]表示对正类别的预测概率\n",
    "        val_auc = auc(val_fpr, val_tpr)\n",
    "        val_auc_history.append(val_auc)\n",
    "\n",
    "        val_f1 = f1_score(val_labels, np.argmax(val_outputs, axis=1),average='weighted')\n",
    "        val_f1_history.append(val_f1)\n",
    "\n",
    "        val_r = recall_score(val_labels, np.argmax(val_outputs, axis=1),average='weighted')\n",
    "        val_r_history.append(val_r)\n",
    "\n",
    "        # Calculate average validation loss\n",
    "        avg_val_loss = val_loss / len(val_loader)\n",
    "        # 得到验证集的平均损失\n",
    "        # 设置早停点\n",
    "        # if min_loss > avg_val_loss:\n",
    "        if best_acc < val_acc: # 以auc值最大存储最佳模型\n",
    "            # min_loss = avg_val_loss\n",
    "            best_acc = val_acc\n",
    "            early_stop = patience\n",
    "            model_name = 'flair_model_fml.pth' # 损失值最小的时候设置成最佳模型\n",
    "            torch.save(flair_model.state_dict(), model_name)\n",
    "        else: # 当前的平均损失比之前epoch的要大\n",
    "            early_stop -= 1\n",
    "        \n",
    "        # 当early_stop为0时，结束epoch训练\n",
    "        if early_stop == 0:\n",
    "            break\n",
    "\n",
    "        print(f\"Epoch {epoch + 1}/{num_epochs}, Train Acc: {train_acc:.4f}, Val Acc: {val_acc:.4f}, Val AUC: {val_auc:.4f}, Val F1: {val_f1:.4f}, Val Recall: {val_r:.4f}, Val Loss: {avg_val_loss:.4f}, Early Stop: {early_stop:.0f}\")\n",
    "        \n",
    "\n",
    "plot_train_curve('flair', train_acc_history, val_acc_history, val_auc_history, val_f1_history, val_r_history, val_fpr, val_tpr)"
   ]
  },
  {
   "cell_type": "code",
   "execution_count": 46,
   "id": "68e1612d-705e-4ad9-98c9-05117f40a86c",
   "metadata": {
    "tags": []
   },
   "outputs": [
    {
     "data": {
      "text/plain": [
       "<All keys matched successfully>"
      ]
     },
     "execution_count": 46,
     "metadata": {},
     "output_type": "execute_result"
    }
   ],
   "source": [
    "# torch.save(model.state_dict(), \"swin_model_brat_cls_2024_4_21.pth\") # 存储模型\n",
    "flair_model.load_state_dict(torch.load(\"flair_model_fml.pth\")) # 加载训练阶段存储的最佳模型"
   ]
  },
  {
   "cell_type": "code",
   "execution_count": 47,
   "id": "c859d144-6ad9-4a0e-b2aa-c3c572f2d56b",
   "metadata": {
    "tags": []
   },
   "outputs": [],
   "source": [
    "# plot_train_curve('flair', train_acc_history, val_acc_history, val_auc_history, val_f1_history, val_r_history, val_fpr, val_tpr)"
   ]
  },
  {
   "cell_type": "code",
   "execution_count": 48,
   "id": "339f1fdc-f721-4f88-9f79-3deb519be738",
   "metadata": {
    "tags": []
   },
   "outputs": [],
   "source": [
    "plot_train_curve('flair', train_acc_history, val_acc_history, val_auc_history, val_f1_history, val_r_history, val_fpr, val_tpr)"
   ]
  },
  {
   "cell_type": "code",
   "execution_count": 49,
   "id": "33d92fc8-aba1-49a6-a606-7b58da2659cd",
   "metadata": {
    "tags": []
   },
   "outputs": [],
   "source": [
    "from sklearn.metrics import confusion_matrix, accuracy_score, roc_auc_score, f1_score, recall_score, roc_curve, auc"
   ]
  },
  {
   "cell_type": "code",
   "execution_count": 50,
   "id": "170edb83-063b-48a9-aaa2-5691cce34362",
   "metadata": {
    "tags": []
   },
   "outputs": [
    {
     "name": "stdout",
     "output_type": "stream",
     "text": [
      "Accuracy: 0.9747, F1 Score: 0.9747, Recall: 0.9747\n"
     ]
    }
   ],
   "source": [
    "# Create a data loader for the images\n",
    "import torch.nn.functional as F\n",
    "data_dir = \"/root/autodl-tmp/project/MedSAM-0.1/data/MULTI_TUMOR_split/test\"\n",
    "transform = transforms.Compose([\n",
    "    transforms.Resize((224, 224)),\n",
    "    transforms.ToTensor(),\n",
    "    # transforms.Normalize(mean=[0.485, 0.456, 0.406], std=[0.229, 0.224, 0.225]),\n",
    "])\n",
    "\n",
    "image_data = datasets.ImageFolder(data_dir, transform=transform)\n",
    "data_loader = DataLoader(image_data, batch_size=1, shuffle=False)\n",
    "\n",
    "# Predict and evaluate\n",
    "y_true = []\n",
    "y_pred = []\n",
    "y_scores = []\n",
    "\n",
    "with torch.no_grad():\n",
    "    for images, labels in data_loader:\n",
    "        images, labels = images.to(device), labels.to(device)\n",
    "        outputs = flair_model(images)\n",
    "        probabilities = F.softmax(outputs, dim=1)  # 使用softmax函数进行概率化处理\n",
    "        _, predicted = torch.max(outputs, 1)\n",
    "        y_true.append(labels.item())\n",
    "        y_pred.append(predicted.item())\n",
    "        y_scores.append(probabilities.cpu().numpy())\n",
    "\n",
    "y_true = np.array(y_true)\n",
    "y_pred = np.array(y_pred)\n",
    "y_scores = np.concatenate(y_scores, axis=0)\n",
    "\n",
    "acc = accuracy_score(y_true, y_pred)\n",
    "#auc_score = roc_auc_score(y_true, y_scores[:, 2], multi_class='ovo')\n",
    "f1 = f1_score(y_true, y_pred,average='weighted')\n",
    "recall = recall_score(y_true, y_pred,average='weighted')\n",
    "\n",
    "print(f\"Accuracy: {acc:.4f}, F1 Score: {f1:.4f}, Recall: {recall:.4f}\")#AUC: {auc_score:.4f}, "
   ]
  },
  {
   "cell_type": "code",
   "execution_count": 51,
   "id": "9a380bc6-472c-4550-96e1-d5c9959b143b",
   "metadata": {
    "tags": []
   },
   "outputs": [
    {
     "name": "stdout",
     "output_type": "stream",
     "text": [
      "              precision    recall  f1-score   support\n",
      "\n",
      "           0       0.98      0.98      0.98        46\n",
      "           1       0.94      0.94      0.94        35\n",
      "           2       0.96      0.96      0.96        28\n",
      "           3       1.00      1.00      1.00        17\n",
      "           4       1.00      1.00      1.00        16\n",
      "           5       1.00      1.00      1.00        16\n",
      "\n",
      "    accuracy                           0.97       158\n",
      "   macro avg       0.98      0.98      0.98       158\n",
      "weighted avg       0.97      0.97      0.97       158\n",
      "\n"
     ]
    }
   ],
   "source": [
    "from sklearn.metrics import classification_report\n",
    "print(classification_report(y_true,y_pred))"
   ]
  },
  {
   "cell_type": "code",
   "execution_count": 52,
   "id": "b3d9406f-1473-480b-9e14-8ada00383ec8",
   "metadata": {
    "tags": []
   },
   "outputs": [
    {
     "data": {
      "image/png": "[encoded data removed]",
      "text/plain": [
       "<Figure size 640x480 with 2 Axes>"
      ]
     },
     "metadata": {},
     "output_type": "display_data"
    }
   ],
   "source": [
    "import seaborn as sns\n",
    "from sklearn.metrics import confusion_matrix\n",
    "# Define class labels\n",
    "labels = ['Glioma','Meningioma', 'Neurocitoma', 'Normal', 'Outros', 'Schwannoma']  # 用您的实际类别标签替换...\n",
    "\n",
    "# Plot confusion matrix\n",
    "conf_mat = confusion_matrix(y_true, y_pred)\n",
    "plt.figure()\n",
    "sns.heatmap(conf_mat, annot=True, fmt=\".0f\", cmap='Blues', xticklabels=labels, yticklabels=labels)\n",
    "plt.xlabel(\"Predicted labels\")\n",
    "plt.ylabel(\"True labels\")\n",
    "plt.title(\"Confusion Matrix\")\n",
    "plt.show()"
   ]
  }
 ],
 "metadata": {
  "kernelspec": {
   "display_name": "Python 3 (ipykernel)",
   "language": "python",
   "name": "python3"
  },
  "language_info": {
   "codemirror_mode": {
    "name": "ipython",
    "version": 3
   },
   "file_extension": ".py",
   "mimetype": "text/x-python",
   "name": "python",
   "nbconvert_exporter": "python",
   "pygments_lexer": "ipython3",
   "version": "3.8.10"
  }
 },
 "nbformat": 4,
 "nbformat_minor": 5
}
