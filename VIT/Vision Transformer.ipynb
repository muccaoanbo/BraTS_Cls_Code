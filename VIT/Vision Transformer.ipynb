{
 "cells": [
  {
   "cell_type": "code",
   "execution_count": 1,
   "id": "6fc4e7ec-3233-4b8a-8c68-618c36e753b5",
   "metadata": {
    "tags": []
   },
   "outputs": [],
   "source": [
    "import os\n",
    "import numpy as np\n",
    "import matplotlib.pyplot as plt\n",
    "from sklearn.metrics import accuracy_score, roc_auc_score, f1_score, recall_score, roc_curve, auc\n",
    "\n",
    "import torch\n",
    "import torch.nn as nn\n",
    "import torch.optim as optim\n",
    "from torch.utils.data import DataLoader, random_split, ConcatDataset, Subset, SubsetRandomSampler\n",
    "from torchvision import transforms, datasets, models\n",
    "import timm\n",
    "import csv\n",
    "import seaborn as sns\n",
    "from sklearn.metrics import confusion_matrix\n",
    "import copy\n",
    "import random\n",
    "from torch.optim.lr_scheduler import StepLR, MultiStepLR, LambdaLR, ExponentialLR, CosineAnnealingLR, ReduceLROnPlateau\n",
    "from torchsummary import summary"
   ]
  },
  {
   "cell_type": "code",
   "execution_count": 2,
   "id": "2fdcda54-5505-422e-a835-442c23d01d6b",
   "metadata": {
    "tags": []
   },
   "outputs": [],
   "source": [
    "# # 设置随机数种子，保证结果的可重复性\n",
    "# random.seed(2024)\n",
    "# np.random.seed(2024)\n",
    "# torch.manual_seed(2024)\n",
    "# torch.cuda.manual_seed(2024)"
   ]
  },
  {
   "cell_type": "code",
   "execution_count": 2,
   "id": "d5eafe10-332c-4070-811a-6ac19e3dafef",
   "metadata": {
    "tags": []
   },
   "outputs": [],
   "source": [
    "# Set device\n",
    "device = torch.device(\"cuda\" if torch.cuda.is_available() else \"cpu\")\n",
    "# nn.AdaptiveAvgPool1d\n",
    "# Load pretrained Swin Transformer model\n",
    "# model = models.vit_b_16(pretrained=True)"
   ]
  },
  {
   "cell_type": "code",
   "execution_count": 3,
   "id": "d22dc271-b11e-473d-8267-23688a6487eb",
   "metadata": {
    "tags": []
   },
   "outputs": [],
   "source": [
    "# # 无预训练权重\n",
    "# model = models.vit_b_16()\n",
    "\n",
    "# 有预训练权重\n",
    "model = models.vit_b_16(weights=models.ViT_B_16_Weights.IMAGENET1K_V1)\n",
    "\n",
    "# print(model)\n",
    "# for name, module in model.named_modules():\n",
    "#     # if name == 'norm' or name == 'head':\n",
    "#     print(name)\n",
    "# model\n",
    "# summary(model, (3, 224, 224))"
   ]
  },
  {
   "cell_type": "code",
   "execution_count": 4,
   "id": "a34d056a-8e22-4808-b8c3-1aac4aa4c127",
   "metadata": {
    "tags": []
   },
   "outputs": [],
   "source": [
    "# 假设 model 是你的 VisionTransformer 模型实例\n",
    "num_ftrs = model.heads.head.in_features  # 正确访问 in_features\n",
    "\n",
    "# # 冻结除 head 之外的所有参数\n",
    "# for param in model.parameters():\n",
    "#     if param.requires_grad:\n",
    "#         param.requires_grad = False\n",
    "\n",
    "# # 替换 heads 模块内部的 Linear 层\n",
    "# model.heads.head = nn.Linear(num_ftrs, 6)\n",
    "\n",
    "#保持in_features不变，修改out_features=3\n",
    "model.heads.head = nn.Sequential(\n",
    "    nn.Linear(num_ftrs, 6),\n",
    "    nn.LogSoftmax(dim=1))"
   ]
  },
  {
   "cell_type": "code",
   "execution_count": 7,
   "id": "b6ced03d-4a9f-49e9-bbe1-50852739f06d",
   "metadata": {
    "tags": []
   },
   "outputs": [],
   "source": [
    "# # 模型初始的dropout层p值为0，修改dropout层的p值，防止过拟合\n",
    "# new_dropout = 0.0  # 设置为0.5，即50%的Dropout\n",
    "# # 遍历模型的参数，找到所有的Dropout层，并设置新的Dropout值\n",
    "# for name, module in model.named_modules():\n",
    "#     if isinstance(module, nn.Dropout):\n",
    "#         # print(name)\n",
    "#         module.p = new_dropout\n",
    "# model\n",
    "# for name, module in model.named_modules():\n",
    "#     # if name == 'norm' or name == 'head':\n",
    "#     print(name)"
   ]
  },
  {
   "cell_type": "code",
   "execution_count": 5,
   "id": "b32b10a3-5513-4931-8b70-a3fac5a41365",
   "metadata": {
    "tags": []
   },
   "outputs": [
    {
     "data": {
      "text/plain": [
       "['encoder.layers.encoder_layer_10.mlp.0.weight',\n",
       " 'encoder.layers.encoder_layer_10.mlp.0.bias',\n",
       " 'encoder.layers.encoder_layer_10.mlp.3.weight',\n",
       " 'encoder.layers.encoder_layer_10.mlp.3.bias',\n",
       " 'encoder.layers.encoder_layer_11.ln_1.weight',\n",
       " 'encoder.layers.encoder_layer_11.ln_1.bias',\n",
       " 'encoder.layers.encoder_layer_11.self_attention.in_proj_weight',\n",
       " 'encoder.layers.encoder_layer_11.self_attention.in_proj_bias',\n",
       " 'encoder.layers.encoder_layer_11.self_attention.out_proj.weight',\n",
       " 'encoder.layers.encoder_layer_11.self_attention.out_proj.bias',\n",
       " 'encoder.layers.encoder_layer_11.ln_2.weight',\n",
       " 'encoder.layers.encoder_layer_11.ln_2.bias',\n",
       " 'encoder.layers.encoder_layer_11.mlp.0.weight',\n",
       " 'encoder.layers.encoder_layer_11.mlp.0.bias',\n",
       " 'encoder.layers.encoder_layer_11.mlp.3.weight',\n",
       " 'encoder.layers.encoder_layer_11.mlp.3.bias',\n",
       " 'encoder.ln.weight',\n",
       " 'encoder.ln.bias',\n",
       " 'heads.head.0.weight',\n",
       " 'heads.head.0.bias']"
      ]
     },
     "execution_count": 5,
     "metadata": {},
     "output_type": "execute_result"
    }
   ],
   "source": [
    "all_layer_names = [name for name, _ in model.named_parameters()] # model.named_modules() model.named_parameters()\n",
    "free_layer_names = all_layer_names[-20:]\n",
    "free_layer_names"
   ]
  },
  {
   "cell_type": "code",
   "execution_count": 5,
   "id": "0d6a877e-92d8-41b1-b538-c75d389e5452",
   "metadata": {
    "tags": []
   },
   "outputs": [
    {
     "name": "stdout",
     "output_type": "stream",
     "text": [
      "Number of parameters in Transformer model: 85803270\n"
     ]
    }
   ],
   "source": [
    "import torch\n",
    "from timm.models import create_model\n",
    "\n",
    "num_params = sum(p.numel() for p in model.parameters()) # 模型的参数个数\n",
    "print(f\"Number of parameters in Transformer model: {num_params}\")\n"
   ]
  },
  {
   "cell_type": "code",
   "execution_count": 11,
   "id": "8ddcacb6-50e6-4814-9516-035f5559fa1c",
   "metadata": {
    "tags": []
   },
   "outputs": [],
   "source": [
    "# params_to_update = [] # 需要更新的层\n",
    "# for name, param in model.named_parameters():\n",
    "#     if name.find(\"layers.3\") == -1: # 当前层不含layer.3不更新权重\n",
    "#         param.requires_grad = False\n",
    "#     if name.find(\"layers.3\") == -1 and name not in ['norm.weight', 'norm.bias', 'head.weight', 'head.bias']: #  当前层不含layer.3且name不等于列表中的\n",
    "#         param.requires_grad = False\n",
    "#     else: # 后30层网络需要训练\n",
    "#         param.requires_grad = True # 手动设置，不然不会自动赋值\n",
    "#         params_to_update.append(param)    "
   ]
  },
  {
   "cell_type": "code",
   "execution_count": 6,
   "id": "1f30d78b-495d-466d-b596-db7d9205f99d",
   "metadata": {
    "tags": []
   },
   "outputs": [],
   "source": [
    "# Data preprocessing and augmentation\n",
    "transform = transforms.Compose([\n",
    "    transforms.Resize((224, 224)), # 调整形状\n",
    "    # transforms.RandomHorizontalFlip(),\n",
    "    transforms.ToTensor(), # 转成tensor格式\n",
    "    # transforms.Normalize(mean=[0.485, 0.456, 0.406], std=[0.229, 0.224, 0.225]),\n",
    "])\n",
    "# train_transform = transforms.Compose([\n",
    "#     transforms.Resize((224, 224)),\n",
    "#     # transforms.RandomHorizontalFlip(),\n",
    "#     transforms.ToTensor(),\n",
    "# ])"
   ]
  },
  {
   "cell_type": "code",
   "execution_count": 7,
   "id": "5863ddd8-f023-4870-a05f-5469cfb41f48",
   "metadata": {
    "tags": []
   },
   "outputs": [],
   "source": [
    "\n",
    "# transform = None\n",
    "data_dir = \"/root/autodl-tmp/project/MedSAM-0.1/data/MULTI_TUMOR_split\" # 数据存储的根目录\n",
    "\n",
    "# train_data = datasets.ImageFolder(os.path.join(data_dir, \"train\")) # 对训练数据做增强，增加LGG类型的数量\n",
    "train_data = datasets.ImageFolder(os.path.join(data_dir, \"train\"), transform=transform) # 不对训练数据做增强，使用focal loss解决不平衡问题\n",
    "val_data = datasets.ImageFolder(os.path.join(data_dir, \"val\"), transform=transform)\n",
    "test_data = datasets.ImageFolder(os.path.join(data_dir, \"test\"), transform=transform)\n",
    "\n",
    "# train_loader = DataLoader(train_data, batch_size=32, shuffle=True)\n",
    "# train_data = train_loader.dataset[:1000]\n",
    "\n",
    "# 从训练集中划分0.2作为验证集\n",
    "# 划分训练集和验证集\n",
    "# val_size = int(0.2 * len(train_data))\n",
    "# train_size = len(train_data) - val_size\n",
    "\n",
    "# val_size = 1000\n",
    "# train_size = 6000\n",
    "# other_size = len(train_data) - train_size - val_size\n",
    "# print(train_size, val_size)\n",
    "# train_data, val_data = random_split(train_data, [train_size, val_size])\n",
    "# train_data, val_data, _ = random_split(train_data, [train_size, val_size, other_size]) # 训练数据集切分成训练集和验证集\n",
    "# print(len(train_data))\n",
    "batch_size=64\n",
    "train_loader = DataLoader(train_data, batch_size=batch_size, shuffle=True, num_workers=64)\n",
    "val_loader = DataLoader(val_data, batch_size=batch_size, shuffle=False, num_workers=64)\n",
    "test_loader = DataLoader(test_data, batch_size=batch_size, shuffle=False, num_workers=64)"
   ]
  },
  {
   "cell_type": "code",
   "execution_count": 9,
   "id": "fbb7ce4b-7c79-4edf-8b76-1b1536664d68",
   "metadata": {
    "tags": []
   },
   "outputs": [
    {
     "data": {
      "text/plain": [
       "(1242, 154, 158)"
      ]
     },
     "execution_count": 9,
     "metadata": {},
     "output_type": "execute_result"
    }
   ],
   "source": [
    "len(train_data), len(val_data), len(test_data)#, len(augmented_dataset)\n",
    "# len(train_data), len(test_data)"
   ]
  },
  {
   "cell_type": "code",
   "execution_count": 16,
   "id": "ea1799c8-aedb-4f80-8870-6d0feb67d9fc",
   "metadata": {
    "tags": []
   },
   "outputs": [],
   "source": [
    "# 加载dataset中的每一项，统计其中的0和1数量，构造出targets数组\n",
    "targets = []\n",
    "loader = DataLoader(augmented_dataset, batch_size=1, shuffle=False, num_workers=64)\n",
    "for images, labels in loader:\n",
    "    targets.append(labels.item())\n",
    "    # print(labels)\n",
    "    # break"
   ]
  },
  {
   "cell_type": "code",
   "execution_count": 17,
   "id": "70882207-dca8-4c63-ad5a-f43e8843e02a",
   "metadata": {
    "tags": []
   },
   "outputs": [
    {
     "data": {
      "text/plain": [
       "(276, 1101)"
      ]
     },
     "execution_count": 17,
     "metadata": {},
     "output_type": "execute_result"
    }
   ],
   "source": [
    "targets.count(1), targets.count(0)"
   ]
  },
  {
   "cell_type": "code",
   "execution_count": 18,
   "id": "94a3b6c0-00b6-42e5-adbf-0dcb768b5b8d",
   "metadata": {
    "tags": []
   },
   "outputs": [],
   "source": [
    "# "
   ]
  },
  {
   "cell_type": "code",
   "execution_count": 10,
   "id": "f50b1b14-fdaa-4836-8e64-823df30081f4",
   "metadata": {
    "tags": []
   },
   "outputs": [],
   "source": [
    "# 在次定义训练曲线绘制函数与混淆矩阵绘制函数\n",
    "def plot_train_curve(modal ,train_acc_history, val_acc_history, val_auc_history, val_f1_history, val_r_history, val_fpr, val_tpr):\n",
    "    # 传入的参数train acc; val acc; val auc; val f1; val r; val fpr; val tpr\n",
    "    plt.figure()\n",
    "    plt.plot(train_acc_history, label=\"Train Acc\")\n",
    "    plt.plot(val_acc_history, label=\"Val Acc\")\n",
    "    plt.xlabel(\"Epoch\")\n",
    "    plt.ylabel(\"Accuracy\")\n",
    "    plt.legend()\n",
    "    plt.savefig('./inde_train_curve_images/' + 'Acc_curve_of_' + modal + '.png') # 存储acc的训练曲线\n",
    "    # plt.show()\n",
    "    plt.close()\n",
    "\n",
    "    plt.figure()\n",
    "    plt.plot(val_auc_history, label=\"Val AUC\")\n",
    "    plt.xlabel(\"Epoch\")\n",
    "    plt.ylabel(\"AUC\")\n",
    "    plt.legend()\n",
    "    plt.savefig('./inde_train_curve_images/' + 'Auc_curve_of_' + modal + '.png') # 存储val auc的训练曲线\n",
    "    # plt.show()\n",
    "    plt.close()\n",
    "\n",
    "    plt.figure()\n",
    "    plt.plot(val_f1_history, label=\"Val F1\")\n",
    "    plt.xlabel(\"Epoch\")\n",
    "    plt.ylabel(\"F1 Score\")\n",
    "    plt.legend()\n",
    "    plt.savefig('./inde_train_curve_images/' + 'F1_curve_of_' + modal + '.png') # 存储val f1的训练曲线\n",
    "    # plt.show()\n",
    "    plt.close()\n",
    "\n",
    "    plt.figure()\n",
    "    plt.plot(val_r_history, label=\"Val Recall\")\n",
    "    plt.xlabel(\"Epoch\")\n",
    "    plt.ylabel(\"Recall\")\n",
    "    plt.legend()\n",
    "    plt.savefig('./inde_train_curve_images/' + 'Recall_curve_of_' + modal + '.png') # 存储val recall的训练曲线\n",
    "    # plt.show()\n",
    "    plt.close()\n",
    "    \n",
    "    plt.figure()\n",
    "    plt.plot(val_fpr, val_tpr, label=f'ROC curve (area = {val_auc:.2f})')\n",
    "    plt.plot([0, 1], [0, 1], linestyle='--')\n",
    "    plt.xlim([0.0, 1.0])\n",
    "    plt.ylim([0.0, 1.05])\n",
    "    plt.xlabel('False Positive Rate')\n",
    "    plt.ylabel('True Positive Rate')\n",
    "    plt.title('Receiver Operating Characteristic')\n",
    "    plt.legend(loc=\"lower right\")\n",
    "    plt.savefig('./inde_train_curve_images/' + 'ROC_curve_of_' + modal + '.png') # 存储ROC\n",
    "    # plt.show()\n",
    "    plt.close()\n",
    "\n",
    "def plot_confusion_martix(kfold, y_true, y_pred): # 传入的是训练预测得到的标签与真实的标签\n",
    "    # Define class labels\n",
    "    labels = ['HGG','LGG']  # 用您的实际类别标签替换... LGG表示低级别胶质瘤，HGG表示高级别胶质瘤\n",
    "\n",
    "    # Plot confusion matrix\n",
    "    conf_mat = confusion_matrix(y_true, y_pred)\n",
    "    plt.figure()\n",
    "    sns.heatmap(conf_mat, annot=True, fmt=\".0f\", cmap='Blues', xticklabels=labels, yticklabels=labels)\n",
    "    plt.xlabel(\"Predicted labels\")\n",
    "    plt.ylabel(\"True labels\")\n",
    "    plt.title(\"Confusion Matrix\")\n",
    "    plt.savefig('./inde_val_confusion_martix_figs/' + 'Confusion_martix_of_' + modal + '.png')\n",
    "    # plt.show()\n",
    "    plt.close()"
   ]
  },
  {
   "cell_type": "code",
   "execution_count": 8,
   "id": "56bfc5f4-db85-42aa-a0d3-ea0d1588b139",
   "metadata": {
    "scrolled": true,
    "tags": []
   },
   "outputs": [
    {
     "data": {
      "text/plain": [
       "VisionTransformer(\n",
       "  (conv_proj): Conv2d(3, 768, kernel_size=(16, 16), stride=(16, 16))\n",
       "  (encoder): Encoder(\n",
       "    (dropout): Dropout(p=0.0, inplace=False)\n",
       "    (layers): Sequential(\n",
       "      (encoder_layer_0): EncoderBlock(\n",
       "        (ln_1): LayerNorm((768,), eps=1e-06, elementwise_affine=True)\n",
       "        (self_attention): MultiheadAttention(\n",
       "          (out_proj): NonDynamicallyQuantizableLinear(in_features=768, out_features=768, bias=True)\n",
       "        )\n",
       "        (dropout): Dropout(p=0.0, inplace=False)\n",
       "        (ln_2): LayerNorm((768,), eps=1e-06, elementwise_affine=True)\n",
       "        (mlp): MLPBlock(\n",
       "          (0): Linear(in_features=768, out_features=3072, bias=True)\n",
       "          (1): GELU(approximate='none')\n",
       "          (2): Dropout(p=0.0, inplace=False)\n",
       "          (3): Linear(in_features=3072, out_features=768, bias=True)\n",
       "          (4): Dropout(p=0.0, inplace=False)\n",
       "        )\n",
       "      )\n",
       "      (encoder_layer_1): EncoderBlock(\n",
       "        (ln_1): LayerNorm((768,), eps=1e-06, elementwise_affine=True)\n",
       "        (self_attention): MultiheadAttention(\n",
       "          (out_proj): NonDynamicallyQuantizableLinear(in_features=768, out_features=768, bias=True)\n",
       "        )\n",
       "        (dropout): Dropout(p=0.0, inplace=False)\n",
       "        (ln_2): LayerNorm((768,), eps=1e-06, elementwise_affine=True)\n",
       "        (mlp): MLPBlock(\n",
       "          (0): Linear(in_features=768, out_features=3072, bias=True)\n",
       "          (1): GELU(approximate='none')\n",
       "          (2): Dropout(p=0.0, inplace=False)\n",
       "          (3): Linear(in_features=3072, out_features=768, bias=True)\n",
       "          (4): Dropout(p=0.0, inplace=False)\n",
       "        )\n",
       "      )\n",
       "      (encoder_layer_2): EncoderBlock(\n",
       "        (ln_1): LayerNorm((768,), eps=1e-06, elementwise_affine=True)\n",
       "        (self_attention): MultiheadAttention(\n",
       "          (out_proj): NonDynamicallyQuantizableLinear(in_features=768, out_features=768, bias=True)\n",
       "        )\n",
       "        (dropout): Dropout(p=0.0, inplace=False)\n",
       "        (ln_2): LayerNorm((768,), eps=1e-06, elementwise_affine=True)\n",
       "        (mlp): MLPBlock(\n",
       "          (0): Linear(in_features=768, out_features=3072, bias=True)\n",
       "          (1): GELU(approximate='none')\n",
       "          (2): Dropout(p=0.0, inplace=False)\n",
       "          (3): Linear(in_features=3072, out_features=768, bias=True)\n",
       "          (4): Dropout(p=0.0, inplace=False)\n",
       "        )\n",
       "      )\n",
       "      (encoder_layer_3): EncoderBlock(\n",
       "        (ln_1): LayerNorm((768,), eps=1e-06, elementwise_affine=True)\n",
       "        (self_attention): MultiheadAttention(\n",
       "          (out_proj): NonDynamicallyQuantizableLinear(in_features=768, out_features=768, bias=True)\n",
       "        )\n",
       "        (dropout): Dropout(p=0.0, inplace=False)\n",
       "        (ln_2): LayerNorm((768,), eps=1e-06, elementwise_affine=True)\n",
       "        (mlp): MLPBlock(\n",
       "          (0): Linear(in_features=768, out_features=3072, bias=True)\n",
       "          (1): GELU(approximate='none')\n",
       "          (2): Dropout(p=0.0, inplace=False)\n",
       "          (3): Linear(in_features=3072, out_features=768, bias=True)\n",
       "          (4): Dropout(p=0.0, inplace=False)\n",
       "        )\n",
       "      )\n",
       "      (encoder_layer_4): EncoderBlock(\n",
       "        (ln_1): LayerNorm((768,), eps=1e-06, elementwise_affine=True)\n",
       "        (self_attention): MultiheadAttention(\n",
       "          (out_proj): NonDynamicallyQuantizableLinear(in_features=768, out_features=768, bias=True)\n",
       "        )\n",
       "        (dropout): Dropout(p=0.0, inplace=False)\n",
       "        (ln_2): LayerNorm((768,), eps=1e-06, elementwise_affine=True)\n",
       "        (mlp): MLPBlock(\n",
       "          (0): Linear(in_features=768, out_features=3072, bias=True)\n",
       "          (1): GELU(approximate='none')\n",
       "          (2): Dropout(p=0.0, inplace=False)\n",
       "          (3): Linear(in_features=3072, out_features=768, bias=True)\n",
       "          (4): Dropout(p=0.0, inplace=False)\n",
       "        )\n",
       "      )\n",
       "      (encoder_layer_5): EncoderBlock(\n",
       "        (ln_1): LayerNorm((768,), eps=1e-06, elementwise_affine=True)\n",
       "        (self_attention): MultiheadAttention(\n",
       "          (out_proj): NonDynamicallyQuantizableLinear(in_features=768, out_features=768, bias=True)\n",
       "        )\n",
       "        (dropout): Dropout(p=0.0, inplace=False)\n",
       "        (ln_2): LayerNorm((768,), eps=1e-06, elementwise_affine=True)\n",
       "        (mlp): MLPBlock(\n",
       "          (0): Linear(in_features=768, out_features=3072, bias=True)\n",
       "          (1): GELU(approximate='none')\n",
       "          (2): Dropout(p=0.0, inplace=False)\n",
       "          (3): Linear(in_features=3072, out_features=768, bias=True)\n",
       "          (4): Dropout(p=0.0, inplace=False)\n",
       "        )\n",
       "      )\n",
       "      (encoder_layer_6): EncoderBlock(\n",
       "        (ln_1): LayerNorm((768,), eps=1e-06, elementwise_affine=True)\n",
       "        (self_attention): MultiheadAttention(\n",
       "          (out_proj): NonDynamicallyQuantizableLinear(in_features=768, out_features=768, bias=True)\n",
       "        )\n",
       "        (dropout): Dropout(p=0.0, inplace=False)\n",
       "        (ln_2): LayerNorm((768,), eps=1e-06, elementwise_affine=True)\n",
       "        (mlp): MLPBlock(\n",
       "          (0): Linear(in_features=768, out_features=3072, bias=True)\n",
       "          (1): GELU(approximate='none')\n",
       "          (2): Dropout(p=0.0, inplace=False)\n",
       "          (3): Linear(in_features=3072, out_features=768, bias=True)\n",
       "          (4): Dropout(p=0.0, inplace=False)\n",
       "        )\n",
       "      )\n",
       "      (encoder_layer_7): EncoderBlock(\n",
       "        (ln_1): LayerNorm((768,), eps=1e-06, elementwise_affine=True)\n",
       "        (self_attention): MultiheadAttention(\n",
       "          (out_proj): NonDynamicallyQuantizableLinear(in_features=768, out_features=768, bias=True)\n",
       "        )\n",
       "        (dropout): Dropout(p=0.0, inplace=False)\n",
       "        (ln_2): LayerNorm((768,), eps=1e-06, elementwise_affine=True)\n",
       "        (mlp): MLPBlock(\n",
       "          (0): Linear(in_features=768, out_features=3072, bias=True)\n",
       "          (1): GELU(approximate='none')\n",
       "          (2): Dropout(p=0.0, inplace=False)\n",
       "          (3): Linear(in_features=3072, out_features=768, bias=True)\n",
       "          (4): Dropout(p=0.0, inplace=False)\n",
       "        )\n",
       "      )\n",
       "      (encoder_layer_8): EncoderBlock(\n",
       "        (ln_1): LayerNorm((768,), eps=1e-06, elementwise_affine=True)\n",
       "        (self_attention): MultiheadAttention(\n",
       "          (out_proj): NonDynamicallyQuantizableLinear(in_features=768, out_features=768, bias=True)\n",
       "        )\n",
       "        (dropout): Dropout(p=0.0, inplace=False)\n",
       "        (ln_2): LayerNorm((768,), eps=1e-06, elementwise_affine=True)\n",
       "        (mlp): MLPBlock(\n",
       "          (0): Linear(in_features=768, out_features=3072, bias=True)\n",
       "          (1): GELU(approximate='none')\n",
       "          (2): Dropout(p=0.0, inplace=False)\n",
       "          (3): Linear(in_features=3072, out_features=768, bias=True)\n",
       "          (4): Dropout(p=0.0, inplace=False)\n",
       "        )\n",
       "      )\n",
       "      (encoder_layer_9): EncoderBlock(\n",
       "        (ln_1): LayerNorm((768,), eps=1e-06, elementwise_affine=True)\n",
       "        (self_attention): MultiheadAttention(\n",
       "          (out_proj): NonDynamicallyQuantizableLinear(in_features=768, out_features=768, bias=True)\n",
       "        )\n",
       "        (dropout): Dropout(p=0.0, inplace=False)\n",
       "        (ln_2): LayerNorm((768,), eps=1e-06, elementwise_affine=True)\n",
       "        (mlp): MLPBlock(\n",
       "          (0): Linear(in_features=768, out_features=3072, bias=True)\n",
       "          (1): GELU(approximate='none')\n",
       "          (2): Dropout(p=0.0, inplace=False)\n",
       "          (3): Linear(in_features=3072, out_features=768, bias=True)\n",
       "          (4): Dropout(p=0.0, inplace=False)\n",
       "        )\n",
       "      )\n",
       "      (encoder_layer_10): EncoderBlock(\n",
       "        (ln_1): LayerNorm((768,), eps=1e-06, elementwise_affine=True)\n",
       "        (self_attention): MultiheadAttention(\n",
       "          (out_proj): NonDynamicallyQuantizableLinear(in_features=768, out_features=768, bias=True)\n",
       "        )\n",
       "        (dropout): Dropout(p=0.0, inplace=False)\n",
       "        (ln_2): LayerNorm((768,), eps=1e-06, elementwise_affine=True)\n",
       "        (mlp): MLPBlock(\n",
       "          (0): Linear(in_features=768, out_features=3072, bias=True)\n",
       "          (1): GELU(approximate='none')\n",
       "          (2): Dropout(p=0.0, inplace=False)\n",
       "          (3): Linear(in_features=3072, out_features=768, bias=True)\n",
       "          (4): Dropout(p=0.0, inplace=False)\n",
       "        )\n",
       "      )\n",
       "      (encoder_layer_11): EncoderBlock(\n",
       "        (ln_1): LayerNorm((768,), eps=1e-06, elementwise_affine=True)\n",
       "        (self_attention): MultiheadAttention(\n",
       "          (out_proj): NonDynamicallyQuantizableLinear(in_features=768, out_features=768, bias=True)\n",
       "        )\n",
       "        (dropout): Dropout(p=0.0, inplace=False)\n",
       "        (ln_2): LayerNorm((768,), eps=1e-06, elementwise_affine=True)\n",
       "        (mlp): MLPBlock(\n",
       "          (0): Linear(in_features=768, out_features=3072, bias=True)\n",
       "          (1): GELU(approximate='none')\n",
       "          (2): Dropout(p=0.0, inplace=False)\n",
       "          (3): Linear(in_features=3072, out_features=768, bias=True)\n",
       "          (4): Dropout(p=0.0, inplace=False)\n",
       "        )\n",
       "      )\n",
       "    )\n",
       "    (ln): LayerNorm((768,), eps=1e-06, elementwise_affine=True)\n",
       "  )\n",
       "  (heads): Sequential(\n",
       "    (head): Sequential(\n",
       "      (0): Linear(in_features=768, out_features=6, bias=True)\n",
       "      (1): LogSoftmax(dim=1)\n",
       "    )\n",
       "  )\n",
       ")"
      ]
     },
     "execution_count": 8,
     "metadata": {},
     "output_type": "execute_result"
    }
   ],
   "source": [
    "# Set loss function and optimizer\n",
    "# 训练 验证 测试 基于scan划分，独立测试\n",
    "\n",
    "# 迁移训练的层的设置\n",
    "flair_model = copy.deepcopy(model) # 不同输入的模型结果需要分开存储\n",
    "flair_model.to(device)"
   ]
  },
  {
   "cell_type": "code",
   "execution_count": 10,
   "id": "20f2ab45-c190-4596-9511-b1e2543bd3a5",
   "metadata": {
    "scrolled": true,
    "tags": []
   },
   "outputs": [
    {
     "data": {
      "text/plain": [
       "20"
      ]
     },
     "execution_count": 10,
     "metadata": {},
     "output_type": "execute_result"
    }
   ],
   "source": [
    "flair_params_to_update = [] # 需要更新的层\n",
    "\n",
    "# 只更新部分层\n",
    "for name, param in flair_model.named_parameters():\n",
    "    # free后30层\n",
    "    # if name.find(\"layers.3\") == -1: # 当前层不含layer.3不更新权重\n",
    "    #     param.requires_grad = False\n",
    "    # if name.find(\"layers.3\") == -1 and name not in ['norm.weight', 'norm.bias', 'head.weight', 'head.bias']: #  当前层不含layer.3且name不等于列表中的\n",
    "    #     param.requires_grad = False\n",
    "    # else: # 后30层网络需要训练\n",
    "    #     param.requires_grad = True # 手动设置，不然不会自动赋值\n",
    "    #     flair_params_to_update.append(param)  \n",
    "    \n",
    "    # free后2层\n",
    "    # if name not in ['norm.weight', 'norm.bias', 'head.weight', 'head.bias']: # 只训练最后几层\n",
    "    if name not in free_layer_names: # 只训练最后几层\n",
    "        param.requires_grad = False \n",
    "    else:\n",
    "        param.requires_grad = True # 手动设置，不然不会自动赋值\n",
    "        flair_params_to_update.append(param)\n",
    "        \n",
    "        \n",
    "# # 对需要更新的层，设置dropout防止过拟合\n",
    "# new_dropout = 0.5  # 设置为0.5，即50%的Dropout\n",
    "# # 遍历模型的参数，找到所有的Dropout层，并设置新的Dropout值\n",
    "# for name, module in flair_model.named_modules():\n",
    "#     # 修改后30层的dropout\n",
    "#     if name.find(\"layers.3\") == -1: # 当前层不含layer.3不更新权重\n",
    "#         pass\n",
    "#     if name.find(\"layers.3\") == -1 and name not in ['norm.weight', 'norm.bias', 'head.weight', 'head.bias']: #  当前层不含layer.3且name不等于列表中的\n",
    "#         pass\n",
    "#     else: # 后30层网络需要训练\n",
    "#         if isinstance(module, nn.Dropout):\n",
    "#             # print(name)\n",
    "#             module.p = new_dropout\n",
    "# flair_model\n",
    "len(flair_params_to_update)"
   ]
  },
  {
   "cell_type": "code",
   "execution_count": 11,
   "id": "56f6a5a9-4f1e-4a77-9dd7-643d6e368eba",
   "metadata": {
    "scrolled": true,
    "tags": []
   },
   "outputs": [],
   "source": [
    "criterion = nn.CrossEntropyLoss()\n",
    "alpha = torch.tensor([3.0, 1.0])\n",
    "# print(type(alpha))\n",
    "# criterion = FocalLoss(alpha=[3.0, 1.0], gamma=2) # 自定义的focal loss\n",
    "# criterion = nn.BCELoss()\n",
    "# optimizer = optim.Adam(flair_model.parameters(), lr=5e-3)\n",
    "optimizer = optim.Adam(flair_params_to_update, lr=5e-3)\n",
    "# 学习率动态变化\n",
    "# dynamic_lr = CosineAnnealingLR(optimizer, T_max=5)\n",
    "# print(\"初始化的学习率：\",optimizer.defaults['lr'])\n",
    "\n",
    "# lr_list = []\n",
    "# for epoch in range(1,101):\n",
    "#     optimizer.zero_grad()\n",
    "#     optimizer.step()\n",
    "#     print(\"第%d个epoch的学习率：%f\" % (epoch, optimizer.param_groups[0]['lr']))\n",
    "#     lr_list.append(optimizer.param_groups[0]['lr'])\n",
    "#     dynamic_lr.step()\n",
    "    \n",
    "# #画出epoch的变化图\n",
    "# plt.plot(list(range(1,101)),lr_list)\n",
    "# plt.xlabel(\"epoch\")\n",
    "# plt.ylabel(\"lr\")\n",
    "# plt.title(\"learning rate curve !\")\n",
    "# plt.show()"
   ]
  },
  {
   "cell_type": "code",
   "execution_count": null,
   "id": "18a80558-9ca4-49e0-bc1a-c47aa0941edc",
   "metadata": {
    "scrolled": true,
    "tags": []
   },
   "outputs": [
    {
     "name": "stdout",
     "output_type": "stream",
     "text": [
      "Epoch 1/500, Train Acc: 0.3341, Val Acc: 0.5584, Val AUC: 0.8000, Val F1: 0.5198, Val Recall: 0.5584, Val Loss: 1.2073, Early Stop: 30\n",
      "Epoch 2/500, Train Acc: 0.6248, Val Acc: 0.7013, Val AUC: 0.8804, Val F1: 0.7016, Val Recall: 0.7013, Val Loss: 1.0710, Early Stop: 30\n",
      "Epoch 3/500, Train Acc: 0.7520, Val Acc: 0.7792, Val AUC: 0.9213, Val F1: 0.7831, Val Recall: 0.7792, Val Loss: 0.8477, Early Stop: 30\n"
     ]
    }
   ],
   "source": [
    "# Training and validation\n",
    "num_epochs = 500\n",
    "train_acc_history = []\n",
    "val_acc_history = []\n",
    "val_auc_history = []\n",
    "val_f1_history = []\n",
    "val_r_history = []\n",
    "\n",
    "min_loss = float('inf') # 初始min_loss无穷大\n",
    "best_acc = 0.0\n",
    "best_auc = 0.0\n",
    "patience = 30 # patience原来设成80，设为30当连续20个epoch不再下降时，改变学习率\n",
    "early_stop = patience\n",
    "change_rate = 15 # 多少个epoch不发生提升时，改变学习率\n",
    "\n",
    "for epoch in range(num_epochs):\n",
    "    # Training\n",
    "    flair_model.train()\n",
    "    train_correct = 0\n",
    "    train_total = 0\n",
    "\n",
    "    for images, labels in train_loader:\n",
    "        images, labels = images.to(device), labels.to(device) # 图像与标签\n",
    "        optimizer.zero_grad()\n",
    "        outputs = flair_model(images)\n",
    "        \n",
    "        loss = criterion(outputs, labels) # 交叉熵损失函数集成了softmax，直接将模型的输出当成参数传入即可，不需要额外的softmax操作（否则报错）\n",
    "        # print(loss)\n",
    "        loss.backward()\n",
    "        optimizer.step()\n",
    "\n",
    "\n",
    "        # _, predicted = torch.max(outputs, 1)\n",
    "        predicted = torch.argmax(outputs, 1) # argmax获得标签，用于计算acc等指标\n",
    "        train_total += labels.size(0)\n",
    "        train_correct += (predicted == labels).sum().item()\n",
    "        \n",
    "    # 调整学习率, 一个epoch结束后调整学习率\n",
    "    # print('current epoch lr:', optimizer.param_groups[0]['lr'])\n",
    "    # dynamic_lr.step()\n",
    "    lr = optimizer.param_groups[0]['lr'] # 当前epoch的学习率\n",
    "    # 当early stop连续20次指标不再上升时，改变学习率\n",
    "    if early_stop < (patience - change_rate):\n",
    "        lr -= lr / (change_rate + early_stop)\n",
    "        for param_group in optimizer.param_groups:\n",
    "            param_group['lr'] = lr\n",
    "        print ('Decay learning rate to lr: {}.'.format(lr))\n",
    "    \n",
    "    train_acc = train_correct / train_total\n",
    "    train_acc_history.append(train_acc)\n",
    "\n",
    "    \n",
    "    # Validation\n",
    "    flair_model.eval()\n",
    "    val_correct = 0\n",
    "    val_total = 0\n",
    "    val_outputs_list = []\n",
    "    val_labels_list = []\n",
    "    val_loss = 0\n",
    "\n",
    "    with torch.no_grad():\n",
    "        for images, labels in val_loader:\n",
    "            images, labels = images.to(device), labels.to(device)\n",
    "\n",
    "            outputs = flair_model(images)\n",
    "            loss = criterion(outputs, labels)\n",
    "            val_loss += loss.item()\n",
    "            \n",
    "            # _, predicted = torch.max(outputs, 1)\n",
    "            predicted = torch.argmax(outputs, 1)\n",
    "    \n",
    "            val_total += labels.size(0)\n",
    "            val_correct += (predicted == labels).sum().item()\n",
    "            val_outputs_list.append(outputs.cpu().numpy())\n",
    "            val_labels_list.append(labels.cpu().numpy())\n",
    "\n",
    "        val_acc = val_correct / val_total\n",
    "        val_acc_history.append(val_acc)\n",
    "\n",
    "        val_outputs = np.concatenate(val_outputs_list, axis=0)\n",
    "        val_labels = np.concatenate(val_labels_list, axis=0)\n",
    "\n",
    "        val_fpr, val_tpr, _ = roc_curve(val_labels, val_outputs[:, 1], pos_label=1) # 计算auc，val_outputs[:, 1]表示对正类别的预测概率\n",
    "        val_auc = auc(val_fpr, val_tpr)\n",
    "        val_auc_history.append(val_auc)\n",
    "\n",
    "        val_f1 = f1_score(val_labels, np.argmax(val_outputs, axis=1),average='weighted')\n",
    "        val_f1_history.append(val_f1)\n",
    "\n",
    "        val_r = recall_score(val_labels, np.argmax(val_outputs, axis=1),average='weighted')\n",
    "        val_r_history.append(val_r)\n",
    "\n",
    "        # Calculate average validation loss\n",
    "        avg_val_loss = val_loss / len(val_loader)\n",
    "        # 得到验证集的平均损失\n",
    "        # 设置早停点\n",
    "        # if min_loss > avg_val_loss:\n",
    "        if best_acc < val_acc: # 以auc值最大存储最佳模型\n",
    "            # min_loss = avg_val_loss\n",
    "            best_acc = val_acc\n",
    "            early_stop = patience\n",
    "            model_name = 'vit_model_pretrained3.pth' # 损失值最小的时候设置成最佳模型\n",
    "            torch.save(flair_model.state_dict(), model_name)\n",
    "        else: # 当前的平均损失比之前epoch的要大\n",
    "            early_stop -= 1\n",
    "        \n",
    "        # 当early_stop为0时，结束epoch训练\n",
    "        if early_stop == 0:\n",
    "            break\n",
    "\n",
    "        print(f\"Epoch {epoch + 1}/{num_epochs}, Train Acc: {train_acc:.4f}, Val Acc: {val_acc:.4f}, Val AUC: {val_auc:.4f}, Val F1: {val_f1:.4f}, Val Recall: {val_r:.4f}, Val Loss: {avg_val_loss:.4f}, Early Stop: {early_stop:.0f}\")\n",
    "        \n",
    "\n",
    "plot_train_curve('vit_model_pretrained3', train_acc_history, val_acc_history, val_auc_history, val_f1_history, val_r_history, val_fpr, val_tpr)"
   ]
  },
  {
   "cell_type": "code",
   "execution_count": 9,
   "id": "efe5a4a2-571c-4d6e-bdbd-e7841b4e98c4",
   "metadata": {
    "tags": []
   },
   "outputs": [],
   "source": [
    "# 存储最后训练完成的模型（按acc最佳存储的模型不一定是最好的）\n",
    "torch.save(flair_model.state_dict(), \"vit_model_pretrained3_lastest.pth\") # 存储模型"
   ]
  },
  {
   "cell_type": "code",
   "execution_count": 9,
   "id": "43ce63bc-0d2c-4e36-8753-380eab9e2c53",
   "metadata": {
    "tags": []
   },
   "outputs": [
    {
     "data": {
      "text/plain": [
       "<All keys matched successfully>"
      ]
     },
     "execution_count": 9,
     "metadata": {},
     "output_type": "execute_result"
    }
   ],
   "source": [
    "flair_model.load_state_dict(torch.load(\"vit_model_pretrained2.pth\")) # 加载训练阶段存储的最佳模型"
   ]
  },
  {
   "cell_type": "code",
   "execution_count": 25,
   "id": "c859d144-6ad9-4a0e-b2aa-c3c572f2d56b",
   "metadata": {
    "tags": []
   },
   "outputs": [],
   "source": [
    "# plot_train_curve('flair', train_acc_history, val_acc_history, val_auc_history, val_f1_history, val_r_history, val_fpr, val_tpr)"
   ]
  },
  {
   "cell_type": "code",
   "execution_count": 33,
   "id": "339f1fdc-f721-4f88-9f79-3deb519be738",
   "metadata": {
    "tags": []
   },
   "outputs": [],
   "source": [
    "plot_train_curve('flair', train_acc_history, val_acc_history, val_auc_history, val_f1_history, val_r_history, val_fpr, val_tpr)"
   ]
  },
  {
   "cell_type": "code",
   "execution_count": 10,
   "id": "33d92fc8-aba1-49a6-a606-7b58da2659cd",
   "metadata": {
    "tags": []
   },
   "outputs": [],
   "source": [
    "from sklearn.metrics import confusion_matrix, accuracy_score, roc_auc_score, f1_score, recall_score, roc_curve, auc"
   ]
  },
  {
   "cell_type": "code",
   "execution_count": 25,
   "id": "e85c5477-bbb5-490d-9a31-44e4429d6a4f",
   "metadata": {
    "tags": []
   },
   "outputs": [
    {
     "name": "stdout",
     "output_type": "stream",
     "text": [
      "AUC (Weighted Average): 0.9886587371029126\n"
     ]
    }
   ],
   "source": [
    "# Create a data loader for the images\n",
    "import torch.nn.functional as F\n",
    "data_dir = \"/root/autodl-tmp/project/MedSAM-0.1/data/MULTI_TUMOR_split/test\"\n",
    "transform = transforms.Compose([\n",
    "    transforms.Resize((224, 224)),\n",
    "    transforms.ToTensor(),\n",
    "    # transforms.Normalize(mean=[0.485, 0.456, 0.406], std=[0.229, 0.224, 0.225]),\n",
    "])\n",
    "\n",
    "image_data = datasets.ImageFolder(data_dir, transform=transform)\n",
    "data_loader = DataLoader(image_data, batch_size=1, shuffle=False)\n",
    "\n",
    "# Predict and evaluate\n",
    "y_true = []\n",
    "y_pred = []\n",
    "y_scores = []\n",
    "\n",
    "with torch.no_grad():\n",
    "    for images, labels in data_loader:\n",
    "        images, labels = images.to(device), labels.to(device)\n",
    "        outputs = flair_model(images)\n",
    "        probabilities = F.softmax(outputs, dim=1)  # 使用softmax函数进行概率化处理\n",
    "        _, predicted = torch.max(outputs, 1)\n",
    "        y_true.append(labels.item())\n",
    "        y_pred.append(predicted.item())\n",
    "        y_scores.append(probabilities.cpu().numpy())\n",
    "\n",
    "y_true = np.array(y_true)\n",
    "y_pred = np.array(y_pred)\n",
    "y_scores = np.concatenate(y_scores, axis=0)\n",
    "\n",
    "acc = accuracy_score(y_true, y_pred)\n",
    "#auc_score = roc_auc_score(y_true, y_scores[:, 2], multi_class='ovo')\n",
    "f1 = f1_score(y_true, y_pred,average='weighted')\n",
    "recall = recall_score(y_true, y_pred,average='weighted')\n",
    "\n",
    "# 计算灵敏度的值\n",
    "sensitivity_weighted = recall_score(y_true, y_pred, average='weighted')\n",
    "# 计算特异度的值\n",
    "cm = confusion_matrix(y_true, y_pred)\n",
    "# 计算每个类别的特异度和样本数量\n",
    "specificity_per_class = []\n",
    "support_per_class = np.sum(cm, axis=1)  # 每个类别的样本数量\n",
    "# print(support_per_class)\n",
    "for i in range(len(cm)):\n",
    "    tn = np.sum(np.delete(np.delete(cm, i, axis=0), i, axis=1))  # True Negatives\n",
    "    fp = np.sum(cm[:, i]) - cm[i, i]  # False Positives\n",
    "    # print(tn, fp)\n",
    "    specificity = tn / (tn + fp)\n",
    "    specificity_per_class.append(specificity)\n",
    "# 计算加权平均特异度\n",
    "specificity_weighted = np.average(specificity_per_class, weights=support_per_class)\n",
    "# print(\"Specificity (Weighted Average):\", specificity_weighted)\n",
    "\n",
    "# 计算AUC值\n",
    "auc_score = roc_auc_score(y_true, y_scores, multi_class='ovr', average='macro')\n",
    "print(\"AUC (Weighted Average):\", auc_score)"
   ]
  },
  {
   "cell_type": "code",
   "execution_count": 19,
   "id": "01a0496a-807f-42d8-90d6-993b1db0ab89",
   "metadata": {
    "tags": []
   },
   "outputs": [
    {
     "data": {
      "text/plain": [
       "(158, 6)"
      ]
     },
     "execution_count": 19,
     "metadata": {},
     "output_type": "execute_result"
    }
   ],
   "source": [
    "y_scores.shape"
   ]
  },
  {
   "cell_type": "code",
   "execution_count": 14,
   "id": "f8c565b3-3a93-43b2-bd29-f3b69c7b04b7",
   "metadata": {
    "tags": []
   },
   "outputs": [
    {
     "name": "stdout",
     "output_type": "stream",
     "text": [
      "Accuracy: 0.8987, F1 Score: 0.8985, Recall: 0.8987, sensitivity: 0.8987, specificity: 0.9685,\n"
     ]
    }
   ],
   "source": [
    "print(f\"Accuracy: {acc:.4f}, F1 Score: {f1:.4f}, Recall: {recall:.4f}, sensitivity: {sensitivity_weighted:.4f}, specificity: {specificity_weighted:.4f},\")#AUC: {auc_score:.4f}, "
   ]
  },
  {
   "cell_type": "code",
   "execution_count": 12,
   "id": "9a380bc6-472c-4550-96e1-d5c9959b143b",
   "metadata": {
    "tags": []
   },
   "outputs": [
    {
     "name": "stdout",
     "output_type": "stream",
     "text": [
      "              precision    recall  f1-score   support\n",
      "\n",
      "           0       0.86      0.91      0.88        46\n",
      "           1       0.85      0.83      0.84        35\n",
      "           2       0.93      1.00      0.97        28\n",
      "           3       0.88      0.88      0.88        17\n",
      "           4       1.00      0.94      0.97        16\n",
      "           5       1.00      0.81      0.90        16\n",
      "\n",
      "    accuracy                           0.90       158\n",
      "   macro avg       0.92      0.90      0.91       158\n",
      "weighted avg       0.90      0.90      0.90       158\n",
      "\n"
     ]
    }
   ],
   "source": [
    "from sklearn.metrics import classification_report\n",
    "print(classification_report(y_true,y_pred))"
   ]
  },
  {
   "cell_type": "code",
   "execution_count": 16,
   "id": "19e357c0-7bb9-43c0-b99e-a960a71ced5c",
   "metadata": {
    "tags": []
   },
   "outputs": [
    {
     "data": {
      "image/png": "[encoded data removed]",
      "text/plain": [
       "<Figure size 640x480 with 2 Axes>"
      ]
     },
     "metadata": {},
     "output_type": "display_data"
    }
   ],
   "source": [
    "import seaborn as sns\n",
    "from sklearn.metrics import confusion_matrix\n",
    "# Define class labels\n",
    "labels = ['Glioma','Meningioma', 'Neurocitoma', 'NORMAL', 'Outros', 'Schwannoma']  # 用您的实际类别标签替换...\n",
    "\n",
    "# Plot confusion matrix\n",
    "conf_mat = confusion_matrix(y_true, y_pred)\n",
    "plt.figure()\n",
    "sns.heatmap(conf_mat, annot=True, fmt=\".0f\", cmap='Blues', xticklabels=labels, yticklabels=labels)\n",
    "plt.xlabel(\"Predicted labels\")\n",
    "plt.ylabel(\"True labels\")\n",
    "plt.title(\"Confusion Matrix\")\n",
    "\n",
    "# 存储成png格式的图片\n",
    "plt.savefig('test_confusion_matrix_vit_model_pretrained2.png', bbox_inches='tight', pad_inches=0.1)\n",
    "\n",
    "plt.show()"
   ]
  }
 ],
 "metadata": {
  "kernelspec": {
   "display_name": "Python 3 (ipykernel)",
   "language": "python",
   "name": "python3"
  },
  "language_info": {
   "codemirror_mode": {
    "name": "ipython",
    "version": 3
   },
   "file_extension": ".py",
   "mimetype": "text/x-python",
   "name": "python",
   "nbconvert_exporter": "python",
   "pygments_lexer": "ipython3",
   "version": "3.8.10"
  }
 },
 "nbformat": 4,
 "nbformat_minor": 5
}
